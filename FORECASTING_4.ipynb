{
  "cells": [
    {
      "cell_type": "code",
      "execution_count": 1,
      "id": "f2d65831",
      "metadata": {
        "id": "f2d65831"
      },
      "outputs": [],
      "source": [
        "#%matplotlib inline\n"
      ]
    },
    {
      "cell_type": "code",
      "execution_count": 2,
      "metadata": {
        "id": "odggQqNPY5hY",
        "colab": {
          "base_uri": "https://localhost:8080/"
        },
        "outputId": "d266ab87-4ae8-4c8a-8ca3-7704819d725f"
      },
      "outputs": [
        {
          "output_type": "stream",
          "name": "stdout",
          "text": [
            "Looking in indexes: https://pypi.org/simple, https://us-python.pkg.dev/colab-wheels/public/simple/\n",
            "Requirement already satisfied: pmdarima in /usr/local/lib/python3.7/dist-packages (2.0.1)\n",
            "Requirement already satisfied: setuptools!=50.0.0,>=38.6.0 in /usr/local/lib/python3.7/dist-packages (from pmdarima) (57.4.0)\n",
            "Requirement already satisfied: statsmodels>=0.13.2 in /usr/local/lib/python3.7/dist-packages (from pmdarima) (0.13.5)\n",
            "Requirement already satisfied: scikit-learn>=0.22 in /usr/local/lib/python3.7/dist-packages (from pmdarima) (1.0.2)\n",
            "Requirement already satisfied: Cython!=0.29.18,!=0.29.31,>=0.29 in /usr/local/lib/python3.7/dist-packages (from pmdarima) (0.29.32)\n",
            "Requirement already satisfied: scipy>=1.3.2 in /usr/local/lib/python3.7/dist-packages (from pmdarima) (1.7.3)\n",
            "Requirement already satisfied: numpy>=1.21 in /usr/local/lib/python3.7/dist-packages (from pmdarima) (1.21.6)\n",
            "Requirement already satisfied: urllib3 in /usr/local/lib/python3.7/dist-packages (from pmdarima) (1.24.3)\n",
            "Requirement already satisfied: pandas>=0.19 in /usr/local/lib/python3.7/dist-packages (from pmdarima) (1.3.5)\n",
            "Requirement already satisfied: joblib>=0.11 in /usr/local/lib/python3.7/dist-packages (from pmdarima) (1.2.0)\n",
            "Requirement already satisfied: python-dateutil>=2.7.3 in /usr/local/lib/python3.7/dist-packages (from pandas>=0.19->pmdarima) (2.8.2)\n",
            "Requirement already satisfied: pytz>=2017.3 in /usr/local/lib/python3.7/dist-packages (from pandas>=0.19->pmdarima) (2022.5)\n",
            "Requirement already satisfied: six>=1.5 in /usr/local/lib/python3.7/dist-packages (from python-dateutil>=2.7.3->pandas>=0.19->pmdarima) (1.15.0)\n",
            "Requirement already satisfied: threadpoolctl>=2.0.0 in /usr/local/lib/python3.7/dist-packages (from scikit-learn>=0.22->pmdarima) (3.1.0)\n",
            "Requirement already satisfied: patsy>=0.5.2 in /usr/local/lib/python3.7/dist-packages (from statsmodels>=0.13.2->pmdarima) (0.5.3)\n",
            "Requirement already satisfied: packaging>=21.3 in /usr/local/lib/python3.7/dist-packages (from statsmodels>=0.13.2->pmdarima) (21.3)\n",
            "Requirement already satisfied: pyparsing!=3.0.5,>=2.0.2 in /usr/local/lib/python3.7/dist-packages (from packaging>=21.3->statsmodels>=0.13.2->pmdarima) (3.0.9)\n"
          ]
        }
      ],
      "source": [
        "import datetime\n",
        "from pandas.core.indexes.datetimes import date\n",
        "import pandas as pd\n",
        "import numpy as np\n",
        "import scipy as sp\n",
        "import statsmodels as sm\n",
        "import sklearn as sl\n",
        "\n",
        "!pip install pmdarima\n",
        "\n",
        "import pmdarima as pm\n",
        "from pmdarima.arima import auto_arima\n",
        "from pmdarima.model_selection import train_test_split\n",
        "from pmdarima.pipeline import Pipeline\n",
        "from pmdarima.preprocessing import BoxCoxEndogTransformer\n",
        "import pickle\n",
        "\n",
        "import matplotlib.pyplot as plt\n",
        "%matplotlib inline\n",
        "\n",
        "import seaborn as sns\n",
        "import plotly.express as px\n",
        "import plotly.graph_objects as go\n",
        "import datetime as dt\n",
        "\n",
        "import statsmodels.formula.api as smf\n",
        "from statsmodels.formula.api import ols\n",
        "from statsmodels.stats.anova import anova_lm\n",
        "import statsmodels.stats.multicomp as multi\n",
        "\n",
        "from statsmodels.formula.api import ols\n",
        "from statsmodels.stats.anova import anova_lm\n",
        "import statsmodels.stats.multicomp as mutti\n",
        "\n",
        "from statsmodels.tsa.arima_model import ARIMA\n",
        "from statsmodels.tsa.stattools import adfuller\n",
        "from statsmodels.tsa.ar_model import AutoReg\n",
        "from statsmodels.compat.scipy import _next_regular\n",
        "\n",
        "import warnings\n",
        "warnings.filterwarnings (\"ignore\")\n",
        "\n",
        "from sklearn.decomposition import PCA\n",
        "from scipy.stats import pearsonr\n",
        "from sklearn import metrics\n",
        "from sklearn.preprocessing import StandardScaler"
      ],
      "id": "odggQqNPY5hY"
    },
    {
      "cell_type": "code",
      "source": [],
      "metadata": {
        "id": "Vd992gPuNqsj"
      },
      "id": "Vd992gPuNqsj",
      "execution_count": 2,
      "outputs": []
    },
    {
      "cell_type": "code",
      "execution_count": 4,
      "id": "cc035203",
      "metadata": {
        "colab": {
          "base_uri": "https://localhost:8080/",
          "height": 537
        },
        "id": "cc035203",
        "outputId": "cd353ec6-8848-4941-a16a-481e3c8ed453"
      },
      "outputs": [
        {
          "output_type": "stream",
          "name": "stdout",
          "text": [
            "Shape of data (6435, 8)\n"
          ]
        },
        {
          "output_type": "execute_result",
          "data": {
            "text/plain": [
              "    Store        Date  Weekly_Sales  Holiday_Flag  Temperature  Fuel_Price  \\\n",
              "0       1  05-02-2010    1643690.90             0        42.31       2.572   \n",
              "1       1  12-02-2010    1641957.44             1        38.51       2.548   \n",
              "2       1  19-02-2010    1611968.17             0        39.93       2.514   \n",
              "3       1  26-02-2010    1409727.59             0        46.63       2.561   \n",
              "4       1  05-03-2010    1554806.68             0        46.50       2.625   \n",
              "5       1  12-03-2010    1439541.59             0        57.79       2.667   \n",
              "6       1  19-03-2010    1472515.79             0        54.58       2.720   \n",
              "7       1  26-03-2010    1404429.92             0        51.45       2.732   \n",
              "8       1  02-04-2010    1594968.28             0        62.27       2.719   \n",
              "9       1  09-04-2010    1545418.53             0        65.86       2.770   \n",
              "10      1  16-04-2010    1466058.28             0        66.32       2.808   \n",
              "11      1  23-04-2010    1391256.12             0        64.84       2.795   \n",
              "12      1  30-04-2010    1425100.71             0        67.41       2.780   \n",
              "13      1  07-05-2010    1603955.12             0        72.55       2.835   \n",
              "14      1  14-05-2010    1494251.50             0        74.78       2.854   \n",
              "\n",
              "           CPI  Unemployment  \n",
              "0   211.096358         8.106  \n",
              "1   211.242170         8.106  \n",
              "2   211.289143         8.106  \n",
              "3   211.319643         8.106  \n",
              "4   211.350143         8.106  \n",
              "5   211.380643         8.106  \n",
              "6   211.215635         8.106  \n",
              "7   211.018042         8.106  \n",
              "8   210.820450         7.808  \n",
              "9   210.622857         7.808  \n",
              "10  210.488700         7.808  \n",
              "11  210.439123         7.808  \n",
              "12  210.389546         7.808  \n",
              "13  210.339968         7.808  \n",
              "14  210.337426         7.808  "
            ],
            "text/html": [
              "\n",
              "  <div id=\"df-edd9ccc3-e8ef-4da4-838d-4780be17fb07\">\n",
              "    <div class=\"colab-df-container\">\n",
              "      <div>\n",
              "<style scoped>\n",
              "    .dataframe tbody tr th:only-of-type {\n",
              "        vertical-align: middle;\n",
              "    }\n",
              "\n",
              "    .dataframe tbody tr th {\n",
              "        vertical-align: top;\n",
              "    }\n",
              "\n",
              "    .dataframe thead th {\n",
              "        text-align: right;\n",
              "    }\n",
              "</style>\n",
              "<table border=\"1\" class=\"dataframe\">\n",
              "  <thead>\n",
              "    <tr style=\"text-align: right;\">\n",
              "      <th></th>\n",
              "      <th>Store</th>\n",
              "      <th>Date</th>\n",
              "      <th>Weekly_Sales</th>\n",
              "      <th>Holiday_Flag</th>\n",
              "      <th>Temperature</th>\n",
              "      <th>Fuel_Price</th>\n",
              "      <th>CPI</th>\n",
              "      <th>Unemployment</th>\n",
              "    </tr>\n",
              "  </thead>\n",
              "  <tbody>\n",
              "    <tr>\n",
              "      <th>0</th>\n",
              "      <td>1</td>\n",
              "      <td>05-02-2010</td>\n",
              "      <td>1643690.90</td>\n",
              "      <td>0</td>\n",
              "      <td>42.31</td>\n",
              "      <td>2.572</td>\n",
              "      <td>211.096358</td>\n",
              "      <td>8.106</td>\n",
              "    </tr>\n",
              "    <tr>\n",
              "      <th>1</th>\n",
              "      <td>1</td>\n",
              "      <td>12-02-2010</td>\n",
              "      <td>1641957.44</td>\n",
              "      <td>1</td>\n",
              "      <td>38.51</td>\n",
              "      <td>2.548</td>\n",
              "      <td>211.242170</td>\n",
              "      <td>8.106</td>\n",
              "    </tr>\n",
              "    <tr>\n",
              "      <th>2</th>\n",
              "      <td>1</td>\n",
              "      <td>19-02-2010</td>\n",
              "      <td>1611968.17</td>\n",
              "      <td>0</td>\n",
              "      <td>39.93</td>\n",
              "      <td>2.514</td>\n",
              "      <td>211.289143</td>\n",
              "      <td>8.106</td>\n",
              "    </tr>\n",
              "    <tr>\n",
              "      <th>3</th>\n",
              "      <td>1</td>\n",
              "      <td>26-02-2010</td>\n",
              "      <td>1409727.59</td>\n",
              "      <td>0</td>\n",
              "      <td>46.63</td>\n",
              "      <td>2.561</td>\n",
              "      <td>211.319643</td>\n",
              "      <td>8.106</td>\n",
              "    </tr>\n",
              "    <tr>\n",
              "      <th>4</th>\n",
              "      <td>1</td>\n",
              "      <td>05-03-2010</td>\n",
              "      <td>1554806.68</td>\n",
              "      <td>0</td>\n",
              "      <td>46.50</td>\n",
              "      <td>2.625</td>\n",
              "      <td>211.350143</td>\n",
              "      <td>8.106</td>\n",
              "    </tr>\n",
              "    <tr>\n",
              "      <th>5</th>\n",
              "      <td>1</td>\n",
              "      <td>12-03-2010</td>\n",
              "      <td>1439541.59</td>\n",
              "      <td>0</td>\n",
              "      <td>57.79</td>\n",
              "      <td>2.667</td>\n",
              "      <td>211.380643</td>\n",
              "      <td>8.106</td>\n",
              "    </tr>\n",
              "    <tr>\n",
              "      <th>6</th>\n",
              "      <td>1</td>\n",
              "      <td>19-03-2010</td>\n",
              "      <td>1472515.79</td>\n",
              "      <td>0</td>\n",
              "      <td>54.58</td>\n",
              "      <td>2.720</td>\n",
              "      <td>211.215635</td>\n",
              "      <td>8.106</td>\n",
              "    </tr>\n",
              "    <tr>\n",
              "      <th>7</th>\n",
              "      <td>1</td>\n",
              "      <td>26-03-2010</td>\n",
              "      <td>1404429.92</td>\n",
              "      <td>0</td>\n",
              "      <td>51.45</td>\n",
              "      <td>2.732</td>\n",
              "      <td>211.018042</td>\n",
              "      <td>8.106</td>\n",
              "    </tr>\n",
              "    <tr>\n",
              "      <th>8</th>\n",
              "      <td>1</td>\n",
              "      <td>02-04-2010</td>\n",
              "      <td>1594968.28</td>\n",
              "      <td>0</td>\n",
              "      <td>62.27</td>\n",
              "      <td>2.719</td>\n",
              "      <td>210.820450</td>\n",
              "      <td>7.808</td>\n",
              "    </tr>\n",
              "    <tr>\n",
              "      <th>9</th>\n",
              "      <td>1</td>\n",
              "      <td>09-04-2010</td>\n",
              "      <td>1545418.53</td>\n",
              "      <td>0</td>\n",
              "      <td>65.86</td>\n",
              "      <td>2.770</td>\n",
              "      <td>210.622857</td>\n",
              "      <td>7.808</td>\n",
              "    </tr>\n",
              "    <tr>\n",
              "      <th>10</th>\n",
              "      <td>1</td>\n",
              "      <td>16-04-2010</td>\n",
              "      <td>1466058.28</td>\n",
              "      <td>0</td>\n",
              "      <td>66.32</td>\n",
              "      <td>2.808</td>\n",
              "      <td>210.488700</td>\n",
              "      <td>7.808</td>\n",
              "    </tr>\n",
              "    <tr>\n",
              "      <th>11</th>\n",
              "      <td>1</td>\n",
              "      <td>23-04-2010</td>\n",
              "      <td>1391256.12</td>\n",
              "      <td>0</td>\n",
              "      <td>64.84</td>\n",
              "      <td>2.795</td>\n",
              "      <td>210.439123</td>\n",
              "      <td>7.808</td>\n",
              "    </tr>\n",
              "    <tr>\n",
              "      <th>12</th>\n",
              "      <td>1</td>\n",
              "      <td>30-04-2010</td>\n",
              "      <td>1425100.71</td>\n",
              "      <td>0</td>\n",
              "      <td>67.41</td>\n",
              "      <td>2.780</td>\n",
              "      <td>210.389546</td>\n",
              "      <td>7.808</td>\n",
              "    </tr>\n",
              "    <tr>\n",
              "      <th>13</th>\n",
              "      <td>1</td>\n",
              "      <td>07-05-2010</td>\n",
              "      <td>1603955.12</td>\n",
              "      <td>0</td>\n",
              "      <td>72.55</td>\n",
              "      <td>2.835</td>\n",
              "      <td>210.339968</td>\n",
              "      <td>7.808</td>\n",
              "    </tr>\n",
              "    <tr>\n",
              "      <th>14</th>\n",
              "      <td>1</td>\n",
              "      <td>14-05-2010</td>\n",
              "      <td>1494251.50</td>\n",
              "      <td>0</td>\n",
              "      <td>74.78</td>\n",
              "      <td>2.854</td>\n",
              "      <td>210.337426</td>\n",
              "      <td>7.808</td>\n",
              "    </tr>\n",
              "  </tbody>\n",
              "</table>\n",
              "</div>\n",
              "      <button class=\"colab-df-convert\" onclick=\"convertToInteractive('df-edd9ccc3-e8ef-4da4-838d-4780be17fb07')\"\n",
              "              title=\"Convert this dataframe to an interactive table.\"\n",
              "              style=\"display:none;\">\n",
              "        \n",
              "  <svg xmlns=\"http://www.w3.org/2000/svg\" height=\"24px\"viewBox=\"0 0 24 24\"\n",
              "       width=\"24px\">\n",
              "    <path d=\"M0 0h24v24H0V0z\" fill=\"none\"/>\n",
              "    <path d=\"M18.56 5.44l.94 2.06.94-2.06 2.06-.94-2.06-.94-.94-2.06-.94 2.06-2.06.94zm-11 1L8.5 8.5l.94-2.06 2.06-.94-2.06-.94L8.5 2.5l-.94 2.06-2.06.94zm10 10l.94 2.06.94-2.06 2.06-.94-2.06-.94-.94-2.06-.94 2.06-2.06.94z\"/><path d=\"M17.41 7.96l-1.37-1.37c-.4-.4-.92-.59-1.43-.59-.52 0-1.04.2-1.43.59L10.3 9.45l-7.72 7.72c-.78.78-.78 2.05 0 2.83L4 21.41c.39.39.9.59 1.41.59.51 0 1.02-.2 1.41-.59l7.78-7.78 2.81-2.81c.8-.78.8-2.07 0-2.86zM5.41 20L4 18.59l7.72-7.72 1.47 1.35L5.41 20z\"/>\n",
              "  </svg>\n",
              "      </button>\n",
              "      \n",
              "  <style>\n",
              "    .colab-df-container {\n",
              "      display:flex;\n",
              "      flex-wrap:wrap;\n",
              "      gap: 12px;\n",
              "    }\n",
              "\n",
              "    .colab-df-convert {\n",
              "      background-color: #E8F0FE;\n",
              "      border: none;\n",
              "      border-radius: 50%;\n",
              "      cursor: pointer;\n",
              "      display: none;\n",
              "      fill: #1967D2;\n",
              "      height: 32px;\n",
              "      padding: 0 0 0 0;\n",
              "      width: 32px;\n",
              "    }\n",
              "\n",
              "    .colab-df-convert:hover {\n",
              "      background-color: #E2EBFA;\n",
              "      box-shadow: 0px 1px 2px rgba(60, 64, 67, 0.3), 0px 1px 3px 1px rgba(60, 64, 67, 0.15);\n",
              "      fill: #174EA6;\n",
              "    }\n",
              "\n",
              "    [theme=dark] .colab-df-convert {\n",
              "      background-color: #3B4455;\n",
              "      fill: #D2E3FC;\n",
              "    }\n",
              "\n",
              "    [theme=dark] .colab-df-convert:hover {\n",
              "      background-color: #434B5C;\n",
              "      box-shadow: 0px 1px 3px 1px rgba(0, 0, 0, 0.15);\n",
              "      filter: drop-shadow(0px 1px 2px rgba(0, 0, 0, 0.3));\n",
              "      fill: #FFFFFF;\n",
              "    }\n",
              "  </style>\n",
              "\n",
              "      <script>\n",
              "        const buttonEl =\n",
              "          document.querySelector('#df-edd9ccc3-e8ef-4da4-838d-4780be17fb07 button.colab-df-convert');\n",
              "        buttonEl.style.display =\n",
              "          google.colab.kernel.accessAllowed ? 'block' : 'none';\n",
              "\n",
              "        async function convertToInteractive(key) {\n",
              "          const element = document.querySelector('#df-edd9ccc3-e8ef-4da4-838d-4780be17fb07');\n",
              "          const dataTable =\n",
              "            await google.colab.kernel.invokeFunction('convertToInteractive',\n",
              "                                                     [key], {});\n",
              "          if (!dataTable) return;\n",
              "\n",
              "          const docLinkHtml = 'Like what you see? Visit the ' +\n",
              "            '<a target=\"_blank\" href=https://colab.research.google.com/notebooks/data_table.ipynb>data table notebook</a>'\n",
              "            + ' to learn more about interactive tables.';\n",
              "          element.innerHTML = '';\n",
              "          dataTable['output_type'] = 'display_data';\n",
              "          await google.colab.output.renderOutput(dataTable, element);\n",
              "          const docLink = document.createElement('div');\n",
              "          docLink.innerHTML = docLinkHtml;\n",
              "          element.appendChild(docLink);\n",
              "        }\n",
              "      </script>\n",
              "    </div>\n",
              "  </div>\n",
              "  "
            ]
          },
          "metadata": {},
          "execution_count": 4
        }
      ],
      "source": [
        "url = 'https://raw.githubusercontent.com/josealfonsocr/Proyecto-Skills/main/Walmart_Store_sales.csv'\n",
        "train = pd.read_csv (url)\n",
        "print('Shape of data',train.shape)\n",
        "train.head(15)"
      ]
    },
    {
      "cell_type": "code",
      "source": [
        "train[\"Date\"]=pd.to_datetime(train[\"Date\"])\n",
        "train.info()"
      ],
      "metadata": {
        "colab": {
          "base_uri": "https://localhost:8080/"
        },
        "id": "8xh3j_DBEAMN",
        "outputId": "949300ff-25f8-4ff8-c9ed-0c4688c04786"
      },
      "id": "8xh3j_DBEAMN",
      "execution_count": 5,
      "outputs": [
        {
          "output_type": "stream",
          "name": "stdout",
          "text": [
            "<class 'pandas.core.frame.DataFrame'>\n",
            "RangeIndex: 6435 entries, 0 to 6434\n",
            "Data columns (total 8 columns):\n",
            " #   Column        Non-Null Count  Dtype         \n",
            "---  ------        --------------  -----         \n",
            " 0   Store         6435 non-null   int64         \n",
            " 1   Date          6435 non-null   datetime64[ns]\n",
            " 2   Weekly_Sales  6435 non-null   float64       \n",
            " 3   Holiday_Flag  6435 non-null   int64         \n",
            " 4   Temperature   6435 non-null   float64       \n",
            " 5   Fuel_Price    6435 non-null   float64       \n",
            " 6   CPI           6435 non-null   float64       \n",
            " 7   Unemployment  6435 non-null   float64       \n",
            "dtypes: datetime64[ns](1), float64(5), int64(2)\n",
            "memory usage: 402.3 KB\n"
          ]
        }
      ]
    },
    {
      "cell_type": "code",
      "source": [
        "dat = train.loc[(train.Store == 1),['Date','Weekly_Sales']]\n",
        "print('Earliest date: %s; Latest date: %s' % (dat['Date'].min(), dat['Date'].max()))"
      ],
      "metadata": {
        "colab": {
          "base_uri": "https://localhost:8080/"
        },
        "id": "uEz9Tifu0HLy",
        "outputId": "61ec12e9-aa29-4ec8-d8ea-a06850f85d67"
      },
      "id": "uEz9Tifu0HLy",
      "execution_count": 6,
      "outputs": [
        {
          "output_type": "stream",
          "name": "stdout",
          "text": [
            "Earliest date: 2010-01-10 00:00:00; Latest date: 2012-12-10 00:00:00\n"
          ]
        }
      ]
    },
    {
      "cell_type": "code",
      "source": [
        "dat.head()"
      ],
      "metadata": {
        "colab": {
          "base_uri": "https://localhost:8080/",
          "height": 206
        },
        "id": "zcA6Pvv032qe",
        "outputId": "b6b01d5a-ab4c-4956-af7b-1915b708297b"
      },
      "id": "zcA6Pvv032qe",
      "execution_count": 7,
      "outputs": [
        {
          "output_type": "execute_result",
          "data": {
            "text/plain": [
              "        Date  Weekly_Sales\n",
              "0 2010-05-02    1643690.90\n",
              "1 2010-12-02    1641957.44\n",
              "2 2010-02-19    1611968.17\n",
              "3 2010-02-26    1409727.59\n",
              "4 2010-05-03    1554806.68"
            ],
            "text/html": [
              "\n",
              "  <div id=\"df-bd8f0117-39ee-4b59-b31c-88556cb3480f\">\n",
              "    <div class=\"colab-df-container\">\n",
              "      <div>\n",
              "<style scoped>\n",
              "    .dataframe tbody tr th:only-of-type {\n",
              "        vertical-align: middle;\n",
              "    }\n",
              "\n",
              "    .dataframe tbody tr th {\n",
              "        vertical-align: top;\n",
              "    }\n",
              "\n",
              "    .dataframe thead th {\n",
              "        text-align: right;\n",
              "    }\n",
              "</style>\n",
              "<table border=\"1\" class=\"dataframe\">\n",
              "  <thead>\n",
              "    <tr style=\"text-align: right;\">\n",
              "      <th></th>\n",
              "      <th>Date</th>\n",
              "      <th>Weekly_Sales</th>\n",
              "    </tr>\n",
              "  </thead>\n",
              "  <tbody>\n",
              "    <tr>\n",
              "      <th>0</th>\n",
              "      <td>2010-05-02</td>\n",
              "      <td>1643690.90</td>\n",
              "    </tr>\n",
              "    <tr>\n",
              "      <th>1</th>\n",
              "      <td>2010-12-02</td>\n",
              "      <td>1641957.44</td>\n",
              "    </tr>\n",
              "    <tr>\n",
              "      <th>2</th>\n",
              "      <td>2010-02-19</td>\n",
              "      <td>1611968.17</td>\n",
              "    </tr>\n",
              "    <tr>\n",
              "      <th>3</th>\n",
              "      <td>2010-02-26</td>\n",
              "      <td>1409727.59</td>\n",
              "    </tr>\n",
              "    <tr>\n",
              "      <th>4</th>\n",
              "      <td>2010-05-03</td>\n",
              "      <td>1554806.68</td>\n",
              "    </tr>\n",
              "  </tbody>\n",
              "</table>\n",
              "</div>\n",
              "      <button class=\"colab-df-convert\" onclick=\"convertToInteractive('df-bd8f0117-39ee-4b59-b31c-88556cb3480f')\"\n",
              "              title=\"Convert this dataframe to an interactive table.\"\n",
              "              style=\"display:none;\">\n",
              "        \n",
              "  <svg xmlns=\"http://www.w3.org/2000/svg\" height=\"24px\"viewBox=\"0 0 24 24\"\n",
              "       width=\"24px\">\n",
              "    <path d=\"M0 0h24v24H0V0z\" fill=\"none\"/>\n",
              "    <path d=\"M18.56 5.44l.94 2.06.94-2.06 2.06-.94-2.06-.94-.94-2.06-.94 2.06-2.06.94zm-11 1L8.5 8.5l.94-2.06 2.06-.94-2.06-.94L8.5 2.5l-.94 2.06-2.06.94zm10 10l.94 2.06.94-2.06 2.06-.94-2.06-.94-.94-2.06-.94 2.06-2.06.94z\"/><path d=\"M17.41 7.96l-1.37-1.37c-.4-.4-.92-.59-1.43-.59-.52 0-1.04.2-1.43.59L10.3 9.45l-7.72 7.72c-.78.78-.78 2.05 0 2.83L4 21.41c.39.39.9.59 1.41.59.51 0 1.02-.2 1.41-.59l7.78-7.78 2.81-2.81c.8-.78.8-2.07 0-2.86zM5.41 20L4 18.59l7.72-7.72 1.47 1.35L5.41 20z\"/>\n",
              "  </svg>\n",
              "      </button>\n",
              "      \n",
              "  <style>\n",
              "    .colab-df-container {\n",
              "      display:flex;\n",
              "      flex-wrap:wrap;\n",
              "      gap: 12px;\n",
              "    }\n",
              "\n",
              "    .colab-df-convert {\n",
              "      background-color: #E8F0FE;\n",
              "      border: none;\n",
              "      border-radius: 50%;\n",
              "      cursor: pointer;\n",
              "      display: none;\n",
              "      fill: #1967D2;\n",
              "      height: 32px;\n",
              "      padding: 0 0 0 0;\n",
              "      width: 32px;\n",
              "    }\n",
              "\n",
              "    .colab-df-convert:hover {\n",
              "      background-color: #E2EBFA;\n",
              "      box-shadow: 0px 1px 2px rgba(60, 64, 67, 0.3), 0px 1px 3px 1px rgba(60, 64, 67, 0.15);\n",
              "      fill: #174EA6;\n",
              "    }\n",
              "\n",
              "    [theme=dark] .colab-df-convert {\n",
              "      background-color: #3B4455;\n",
              "      fill: #D2E3FC;\n",
              "    }\n",
              "\n",
              "    [theme=dark] .colab-df-convert:hover {\n",
              "      background-color: #434B5C;\n",
              "      box-shadow: 0px 1px 3px 1px rgba(0, 0, 0, 0.15);\n",
              "      filter: drop-shadow(0px 1px 2px rgba(0, 0, 0, 0.3));\n",
              "      fill: #FFFFFF;\n",
              "    }\n",
              "  </style>\n",
              "\n",
              "      <script>\n",
              "        const buttonEl =\n",
              "          document.querySelector('#df-bd8f0117-39ee-4b59-b31c-88556cb3480f button.colab-df-convert');\n",
              "        buttonEl.style.display =\n",
              "          google.colab.kernel.accessAllowed ? 'block' : 'none';\n",
              "\n",
              "        async function convertToInteractive(key) {\n",
              "          const element = document.querySelector('#df-bd8f0117-39ee-4b59-b31c-88556cb3480f');\n",
              "          const dataTable =\n",
              "            await google.colab.kernel.invokeFunction('convertToInteractive',\n",
              "                                                     [key], {});\n",
              "          if (!dataTable) return;\n",
              "\n",
              "          const docLinkHtml = 'Like what you see? Visit the ' +\n",
              "            '<a target=\"_blank\" href=https://colab.research.google.com/notebooks/data_table.ipynb>data table notebook</a>'\n",
              "            + ' to learn more about interactive tables.';\n",
              "          element.innerHTML = '';\n",
              "          dataTable['output_type'] = 'display_data';\n",
              "          await google.colab.output.renderOutput(dataTable, element);\n",
              "          const docLink = document.createElement('div');\n",
              "          docLink.innerHTML = docLinkHtml;\n",
              "          element.appendChild(docLink);\n",
              "        }\n",
              "      </script>\n",
              "    </div>\n",
              "  </div>\n",
              "  "
            ]
          },
          "metadata": {},
          "execution_count": 7
        }
      ]
    },
    {
      "cell_type": "code",
      "source": [
        "dat2 = train.loc[(train.Store == 2),['Date','Weekly_Sales']]\n",
        "print('Earliest date: %s; Latest date: %s' % (dat['Date'].min(), dat['Date'].max()))"
      ],
      "metadata": {
        "colab": {
          "base_uri": "https://localhost:8080/"
        },
        "id": "djEdi0is2-Qy",
        "outputId": "032a29e7-8622-4111-cbdb-c5d760fcd40a"
      },
      "id": "djEdi0is2-Qy",
      "execution_count": 8,
      "outputs": [
        {
          "output_type": "stream",
          "name": "stdout",
          "text": [
            "Earliest date: 2010-01-10 00:00:00; Latest date: 2012-12-10 00:00:00\n"
          ]
        }
      ]
    },
    {
      "cell_type": "code",
      "source": [
        "dat2.head()"
      ],
      "metadata": {
        "colab": {
          "base_uri": "https://localhost:8080/",
          "height": 206
        },
        "id": "rNuJlE_J36lz",
        "outputId": "43a18386-ff91-462c-d260-62a55a7313ca"
      },
      "id": "rNuJlE_J36lz",
      "execution_count": 9,
      "outputs": [
        {
          "output_type": "execute_result",
          "data": {
            "text/plain": [
              "          Date  Weekly_Sales\n",
              "143 2010-05-02    2136989.46\n",
              "144 2010-12-02    2137809.50\n",
              "145 2010-02-19    2124451.54\n",
              "146 2010-02-26    1865097.27\n",
              "147 2010-05-03    1991013.13"
            ],
            "text/html": [
              "\n",
              "  <div id=\"df-d4dc4211-284f-4925-8510-b9accb9575ea\">\n",
              "    <div class=\"colab-df-container\">\n",
              "      <div>\n",
              "<style scoped>\n",
              "    .dataframe tbody tr th:only-of-type {\n",
              "        vertical-align: middle;\n",
              "    }\n",
              "\n",
              "    .dataframe tbody tr th {\n",
              "        vertical-align: top;\n",
              "    }\n",
              "\n",
              "    .dataframe thead th {\n",
              "        text-align: right;\n",
              "    }\n",
              "</style>\n",
              "<table border=\"1\" class=\"dataframe\">\n",
              "  <thead>\n",
              "    <tr style=\"text-align: right;\">\n",
              "      <th></th>\n",
              "      <th>Date</th>\n",
              "      <th>Weekly_Sales</th>\n",
              "    </tr>\n",
              "  </thead>\n",
              "  <tbody>\n",
              "    <tr>\n",
              "      <th>143</th>\n",
              "      <td>2010-05-02</td>\n",
              "      <td>2136989.46</td>\n",
              "    </tr>\n",
              "    <tr>\n",
              "      <th>144</th>\n",
              "      <td>2010-12-02</td>\n",
              "      <td>2137809.50</td>\n",
              "    </tr>\n",
              "    <tr>\n",
              "      <th>145</th>\n",
              "      <td>2010-02-19</td>\n",
              "      <td>2124451.54</td>\n",
              "    </tr>\n",
              "    <tr>\n",
              "      <th>146</th>\n",
              "      <td>2010-02-26</td>\n",
              "      <td>1865097.27</td>\n",
              "    </tr>\n",
              "    <tr>\n",
              "      <th>147</th>\n",
              "      <td>2010-05-03</td>\n",
              "      <td>1991013.13</td>\n",
              "    </tr>\n",
              "  </tbody>\n",
              "</table>\n",
              "</div>\n",
              "      <button class=\"colab-df-convert\" onclick=\"convertToInteractive('df-d4dc4211-284f-4925-8510-b9accb9575ea')\"\n",
              "              title=\"Convert this dataframe to an interactive table.\"\n",
              "              style=\"display:none;\">\n",
              "        \n",
              "  <svg xmlns=\"http://www.w3.org/2000/svg\" height=\"24px\"viewBox=\"0 0 24 24\"\n",
              "       width=\"24px\">\n",
              "    <path d=\"M0 0h24v24H0V0z\" fill=\"none\"/>\n",
              "    <path d=\"M18.56 5.44l.94 2.06.94-2.06 2.06-.94-2.06-.94-.94-2.06-.94 2.06-2.06.94zm-11 1L8.5 8.5l.94-2.06 2.06-.94-2.06-.94L8.5 2.5l-.94 2.06-2.06.94zm10 10l.94 2.06.94-2.06 2.06-.94-2.06-.94-.94-2.06-.94 2.06-2.06.94z\"/><path d=\"M17.41 7.96l-1.37-1.37c-.4-.4-.92-.59-1.43-.59-.52 0-1.04.2-1.43.59L10.3 9.45l-7.72 7.72c-.78.78-.78 2.05 0 2.83L4 21.41c.39.39.9.59 1.41.59.51 0 1.02-.2 1.41-.59l7.78-7.78 2.81-2.81c.8-.78.8-2.07 0-2.86zM5.41 20L4 18.59l7.72-7.72 1.47 1.35L5.41 20z\"/>\n",
              "  </svg>\n",
              "      </button>\n",
              "      \n",
              "  <style>\n",
              "    .colab-df-container {\n",
              "      display:flex;\n",
              "      flex-wrap:wrap;\n",
              "      gap: 12px;\n",
              "    }\n",
              "\n",
              "    .colab-df-convert {\n",
              "      background-color: #E8F0FE;\n",
              "      border: none;\n",
              "      border-radius: 50%;\n",
              "      cursor: pointer;\n",
              "      display: none;\n",
              "      fill: #1967D2;\n",
              "      height: 32px;\n",
              "      padding: 0 0 0 0;\n",
              "      width: 32px;\n",
              "    }\n",
              "\n",
              "    .colab-df-convert:hover {\n",
              "      background-color: #E2EBFA;\n",
              "      box-shadow: 0px 1px 2px rgba(60, 64, 67, 0.3), 0px 1px 3px 1px rgba(60, 64, 67, 0.15);\n",
              "      fill: #174EA6;\n",
              "    }\n",
              "\n",
              "    [theme=dark] .colab-df-convert {\n",
              "      background-color: #3B4455;\n",
              "      fill: #D2E3FC;\n",
              "    }\n",
              "\n",
              "    [theme=dark] .colab-df-convert:hover {\n",
              "      background-color: #434B5C;\n",
              "      box-shadow: 0px 1px 3px 1px rgba(0, 0, 0, 0.15);\n",
              "      filter: drop-shadow(0px 1px 2px rgba(0, 0, 0, 0.3));\n",
              "      fill: #FFFFFF;\n",
              "    }\n",
              "  </style>\n",
              "\n",
              "      <script>\n",
              "        const buttonEl =\n",
              "          document.querySelector('#df-d4dc4211-284f-4925-8510-b9accb9575ea button.colab-df-convert');\n",
              "        buttonEl.style.display =\n",
              "          google.colab.kernel.accessAllowed ? 'block' : 'none';\n",
              "\n",
              "        async function convertToInteractive(key) {\n",
              "          const element = document.querySelector('#df-d4dc4211-284f-4925-8510-b9accb9575ea');\n",
              "          const dataTable =\n",
              "            await google.colab.kernel.invokeFunction('convertToInteractive',\n",
              "                                                     [key], {});\n",
              "          if (!dataTable) return;\n",
              "\n",
              "          const docLinkHtml = 'Like what you see? Visit the ' +\n",
              "            '<a target=\"_blank\" href=https://colab.research.google.com/notebooks/data_table.ipynb>data table notebook</a>'\n",
              "            + ' to learn more about interactive tables.';\n",
              "          element.innerHTML = '';\n",
              "          dataTable['output_type'] = 'display_data';\n",
              "          await google.colab.output.renderOutput(dataTable, element);\n",
              "          const docLink = document.createElement('div');\n",
              "          docLink.innerHTML = docLinkHtml;\n",
              "          element.appendChild(docLink);\n",
              "        }\n",
              "      </script>\n",
              "    </div>\n",
              "  </div>\n",
              "  "
            ]
          },
          "metadata": {},
          "execution_count": 9
        }
      ]
    },
    {
      "cell_type": "code",
      "source": [
        "pd.options.display.float_format='{:,.2f}'.format\n",
        "#cambiar el punto flotante"
      ],
      "metadata": {
        "id": "nwZLzCxZD4Db"
      },
      "id": "nwZLzCxZD4Db",
      "execution_count": 10,
      "outputs": []
    },
    {
      "cell_type": "code",
      "source": [
        "dat.describe()"
      ],
      "metadata": {
        "colab": {
          "base_uri": "https://localhost:8080/",
          "height": 300
        },
        "id": "NWntTPWQEmgR",
        "outputId": "212fc3e5-0cd5-4e86-b8cd-3c5c948e515b"
      },
      "id": "NWntTPWQEmgR",
      "execution_count": 11,
      "outputs": [
        {
          "output_type": "execute_result",
          "data": {
            "text/plain": [
              "       Weekly_Sales\n",
              "count        143.00\n",
              "mean   1,555,264.40\n",
              "std      155,980.77\n",
              "min    1,316,899.31\n",
              "25%    1,458,104.69\n",
              "50%    1,534,849.64\n",
              "75%    1,614,892.03\n",
              "max    2,387,950.20"
            ],
            "text/html": [
              "\n",
              "  <div id=\"df-e2cf8390-57b3-4c37-ad3f-1670d0b6aa91\">\n",
              "    <div class=\"colab-df-container\">\n",
              "      <div>\n",
              "<style scoped>\n",
              "    .dataframe tbody tr th:only-of-type {\n",
              "        vertical-align: middle;\n",
              "    }\n",
              "\n",
              "    .dataframe tbody tr th {\n",
              "        vertical-align: top;\n",
              "    }\n",
              "\n",
              "    .dataframe thead th {\n",
              "        text-align: right;\n",
              "    }\n",
              "</style>\n",
              "<table border=\"1\" class=\"dataframe\">\n",
              "  <thead>\n",
              "    <tr style=\"text-align: right;\">\n",
              "      <th></th>\n",
              "      <th>Weekly_Sales</th>\n",
              "    </tr>\n",
              "  </thead>\n",
              "  <tbody>\n",
              "    <tr>\n",
              "      <th>count</th>\n",
              "      <td>143.00</td>\n",
              "    </tr>\n",
              "    <tr>\n",
              "      <th>mean</th>\n",
              "      <td>1,555,264.40</td>\n",
              "    </tr>\n",
              "    <tr>\n",
              "      <th>std</th>\n",
              "      <td>155,980.77</td>\n",
              "    </tr>\n",
              "    <tr>\n",
              "      <th>min</th>\n",
              "      <td>1,316,899.31</td>\n",
              "    </tr>\n",
              "    <tr>\n",
              "      <th>25%</th>\n",
              "      <td>1,458,104.69</td>\n",
              "    </tr>\n",
              "    <tr>\n",
              "      <th>50%</th>\n",
              "      <td>1,534,849.64</td>\n",
              "    </tr>\n",
              "    <tr>\n",
              "      <th>75%</th>\n",
              "      <td>1,614,892.03</td>\n",
              "    </tr>\n",
              "    <tr>\n",
              "      <th>max</th>\n",
              "      <td>2,387,950.20</td>\n",
              "    </tr>\n",
              "  </tbody>\n",
              "</table>\n",
              "</div>\n",
              "      <button class=\"colab-df-convert\" onclick=\"convertToInteractive('df-e2cf8390-57b3-4c37-ad3f-1670d0b6aa91')\"\n",
              "              title=\"Convert this dataframe to an interactive table.\"\n",
              "              style=\"display:none;\">\n",
              "        \n",
              "  <svg xmlns=\"http://www.w3.org/2000/svg\" height=\"24px\"viewBox=\"0 0 24 24\"\n",
              "       width=\"24px\">\n",
              "    <path d=\"M0 0h24v24H0V0z\" fill=\"none\"/>\n",
              "    <path d=\"M18.56 5.44l.94 2.06.94-2.06 2.06-.94-2.06-.94-.94-2.06-.94 2.06-2.06.94zm-11 1L8.5 8.5l.94-2.06 2.06-.94-2.06-.94L8.5 2.5l-.94 2.06-2.06.94zm10 10l.94 2.06.94-2.06 2.06-.94-2.06-.94-.94-2.06-.94 2.06-2.06.94z\"/><path d=\"M17.41 7.96l-1.37-1.37c-.4-.4-.92-.59-1.43-.59-.52 0-1.04.2-1.43.59L10.3 9.45l-7.72 7.72c-.78.78-.78 2.05 0 2.83L4 21.41c.39.39.9.59 1.41.59.51 0 1.02-.2 1.41-.59l7.78-7.78 2.81-2.81c.8-.78.8-2.07 0-2.86zM5.41 20L4 18.59l7.72-7.72 1.47 1.35L5.41 20z\"/>\n",
              "  </svg>\n",
              "      </button>\n",
              "      \n",
              "  <style>\n",
              "    .colab-df-container {\n",
              "      display:flex;\n",
              "      flex-wrap:wrap;\n",
              "      gap: 12px;\n",
              "    }\n",
              "\n",
              "    .colab-df-convert {\n",
              "      background-color: #E8F0FE;\n",
              "      border: none;\n",
              "      border-radius: 50%;\n",
              "      cursor: pointer;\n",
              "      display: none;\n",
              "      fill: #1967D2;\n",
              "      height: 32px;\n",
              "      padding: 0 0 0 0;\n",
              "      width: 32px;\n",
              "    }\n",
              "\n",
              "    .colab-df-convert:hover {\n",
              "      background-color: #E2EBFA;\n",
              "      box-shadow: 0px 1px 2px rgba(60, 64, 67, 0.3), 0px 1px 3px 1px rgba(60, 64, 67, 0.15);\n",
              "      fill: #174EA6;\n",
              "    }\n",
              "\n",
              "    [theme=dark] .colab-df-convert {\n",
              "      background-color: #3B4455;\n",
              "      fill: #D2E3FC;\n",
              "    }\n",
              "\n",
              "    [theme=dark] .colab-df-convert:hover {\n",
              "      background-color: #434B5C;\n",
              "      box-shadow: 0px 1px 3px 1px rgba(0, 0, 0, 0.15);\n",
              "      filter: drop-shadow(0px 1px 2px rgba(0, 0, 0, 0.3));\n",
              "      fill: #FFFFFF;\n",
              "    }\n",
              "  </style>\n",
              "\n",
              "      <script>\n",
              "        const buttonEl =\n",
              "          document.querySelector('#df-e2cf8390-57b3-4c37-ad3f-1670d0b6aa91 button.colab-df-convert');\n",
              "        buttonEl.style.display =\n",
              "          google.colab.kernel.accessAllowed ? 'block' : 'none';\n",
              "\n",
              "        async function convertToInteractive(key) {\n",
              "          const element = document.querySelector('#df-e2cf8390-57b3-4c37-ad3f-1670d0b6aa91');\n",
              "          const dataTable =\n",
              "            await google.colab.kernel.invokeFunction('convertToInteractive',\n",
              "                                                     [key], {});\n",
              "          if (!dataTable) return;\n",
              "\n",
              "          const docLinkHtml = 'Like what you see? Visit the ' +\n",
              "            '<a target=\"_blank\" href=https://colab.research.google.com/notebooks/data_table.ipynb>data table notebook</a>'\n",
              "            + ' to learn more about interactive tables.';\n",
              "          element.innerHTML = '';\n",
              "          dataTable['output_type'] = 'display_data';\n",
              "          await google.colab.output.renderOutput(dataTable, element);\n",
              "          const docLink = document.createElement('div');\n",
              "          docLink.innerHTML = docLinkHtml;\n",
              "          element.appendChild(docLink);\n",
              "        }\n",
              "      </script>\n",
              "    </div>\n",
              "  </div>\n",
              "  "
            ]
          },
          "metadata": {},
          "execution_count": 11
        }
      ]
    },
    {
      "cell_type": "code",
      "source": [
        "dat2.describe()"
      ],
      "metadata": {
        "colab": {
          "base_uri": "https://localhost:8080/",
          "height": 300
        },
        "id": "i-GdQy7O46Fk",
        "outputId": "05ee1313-43ac-4346-9d84-5e751f5ee126"
      },
      "id": "i-GdQy7O46Fk",
      "execution_count": 12,
      "outputs": [
        {
          "output_type": "execute_result",
          "data": {
            "text/plain": [
              "       Weekly_Sales\n",
              "count        143.00\n",
              "mean   1,925,751.34\n",
              "std      237,683.69\n",
              "min    1,650,394.44\n",
              "25%    1,803,500.64\n",
              "50%    1,879,107.31\n",
              "75%    1,956,926.53\n",
              "max    3,436,007.68"
            ],
            "text/html": [
              "\n",
              "  <div id=\"df-3e899f0f-36e1-44b3-a39d-9e4c63f05454\">\n",
              "    <div class=\"colab-df-container\">\n",
              "      <div>\n",
              "<style scoped>\n",
              "    .dataframe tbody tr th:only-of-type {\n",
              "        vertical-align: middle;\n",
              "    }\n",
              "\n",
              "    .dataframe tbody tr th {\n",
              "        vertical-align: top;\n",
              "    }\n",
              "\n",
              "    .dataframe thead th {\n",
              "        text-align: right;\n",
              "    }\n",
              "</style>\n",
              "<table border=\"1\" class=\"dataframe\">\n",
              "  <thead>\n",
              "    <tr style=\"text-align: right;\">\n",
              "      <th></th>\n",
              "      <th>Weekly_Sales</th>\n",
              "    </tr>\n",
              "  </thead>\n",
              "  <tbody>\n",
              "    <tr>\n",
              "      <th>count</th>\n",
              "      <td>143.00</td>\n",
              "    </tr>\n",
              "    <tr>\n",
              "      <th>mean</th>\n",
              "      <td>1,925,751.34</td>\n",
              "    </tr>\n",
              "    <tr>\n",
              "      <th>std</th>\n",
              "      <td>237,683.69</td>\n",
              "    </tr>\n",
              "    <tr>\n",
              "      <th>min</th>\n",
              "      <td>1,650,394.44</td>\n",
              "    </tr>\n",
              "    <tr>\n",
              "      <th>25%</th>\n",
              "      <td>1,803,500.64</td>\n",
              "    </tr>\n",
              "    <tr>\n",
              "      <th>50%</th>\n",
              "      <td>1,879,107.31</td>\n",
              "    </tr>\n",
              "    <tr>\n",
              "      <th>75%</th>\n",
              "      <td>1,956,926.53</td>\n",
              "    </tr>\n",
              "    <tr>\n",
              "      <th>max</th>\n",
              "      <td>3,436,007.68</td>\n",
              "    </tr>\n",
              "  </tbody>\n",
              "</table>\n",
              "</div>\n",
              "      <button class=\"colab-df-convert\" onclick=\"convertToInteractive('df-3e899f0f-36e1-44b3-a39d-9e4c63f05454')\"\n",
              "              title=\"Convert this dataframe to an interactive table.\"\n",
              "              style=\"display:none;\">\n",
              "        \n",
              "  <svg xmlns=\"http://www.w3.org/2000/svg\" height=\"24px\"viewBox=\"0 0 24 24\"\n",
              "       width=\"24px\">\n",
              "    <path d=\"M0 0h24v24H0V0z\" fill=\"none\"/>\n",
              "    <path d=\"M18.56 5.44l.94 2.06.94-2.06 2.06-.94-2.06-.94-.94-2.06-.94 2.06-2.06.94zm-11 1L8.5 8.5l.94-2.06 2.06-.94-2.06-.94L8.5 2.5l-.94 2.06-2.06.94zm10 10l.94 2.06.94-2.06 2.06-.94-2.06-.94-.94-2.06-.94 2.06-2.06.94z\"/><path d=\"M17.41 7.96l-1.37-1.37c-.4-.4-.92-.59-1.43-.59-.52 0-1.04.2-1.43.59L10.3 9.45l-7.72 7.72c-.78.78-.78 2.05 0 2.83L4 21.41c.39.39.9.59 1.41.59.51 0 1.02-.2 1.41-.59l7.78-7.78 2.81-2.81c.8-.78.8-2.07 0-2.86zM5.41 20L4 18.59l7.72-7.72 1.47 1.35L5.41 20z\"/>\n",
              "  </svg>\n",
              "      </button>\n",
              "      \n",
              "  <style>\n",
              "    .colab-df-container {\n",
              "      display:flex;\n",
              "      flex-wrap:wrap;\n",
              "      gap: 12px;\n",
              "    }\n",
              "\n",
              "    .colab-df-convert {\n",
              "      background-color: #E8F0FE;\n",
              "      border: none;\n",
              "      border-radius: 50%;\n",
              "      cursor: pointer;\n",
              "      display: none;\n",
              "      fill: #1967D2;\n",
              "      height: 32px;\n",
              "      padding: 0 0 0 0;\n",
              "      width: 32px;\n",
              "    }\n",
              "\n",
              "    .colab-df-convert:hover {\n",
              "      background-color: #E2EBFA;\n",
              "      box-shadow: 0px 1px 2px rgba(60, 64, 67, 0.3), 0px 1px 3px 1px rgba(60, 64, 67, 0.15);\n",
              "      fill: #174EA6;\n",
              "    }\n",
              "\n",
              "    [theme=dark] .colab-df-convert {\n",
              "      background-color: #3B4455;\n",
              "      fill: #D2E3FC;\n",
              "    }\n",
              "\n",
              "    [theme=dark] .colab-df-convert:hover {\n",
              "      background-color: #434B5C;\n",
              "      box-shadow: 0px 1px 3px 1px rgba(0, 0, 0, 0.15);\n",
              "      filter: drop-shadow(0px 1px 2px rgba(0, 0, 0, 0.3));\n",
              "      fill: #FFFFFF;\n",
              "    }\n",
              "  </style>\n",
              "\n",
              "      <script>\n",
              "        const buttonEl =\n",
              "          document.querySelector('#df-3e899f0f-36e1-44b3-a39d-9e4c63f05454 button.colab-df-convert');\n",
              "        buttonEl.style.display =\n",
              "          google.colab.kernel.accessAllowed ? 'block' : 'none';\n",
              "\n",
              "        async function convertToInteractive(key) {\n",
              "          const element = document.querySelector('#df-3e899f0f-36e1-44b3-a39d-9e4c63f05454');\n",
              "          const dataTable =\n",
              "            await google.colab.kernel.invokeFunction('convertToInteractive',\n",
              "                                                     [key], {});\n",
              "          if (!dataTable) return;\n",
              "\n",
              "          const docLinkHtml = 'Like what you see? Visit the ' +\n",
              "            '<a target=\"_blank\" href=https://colab.research.google.com/notebooks/data_table.ipynb>data table notebook</a>'\n",
              "            + ' to learn more about interactive tables.';\n",
              "          element.innerHTML = '';\n",
              "          dataTable['output_type'] = 'display_data';\n",
              "          await google.colab.output.renderOutput(dataTable, element);\n",
              "          const docLink = document.createElement('div');\n",
              "          docLink.innerHTML = docLinkHtml;\n",
              "          element.appendChild(docLink);\n",
              "        }\n",
              "      </script>\n",
              "    </div>\n",
              "  </div>\n",
              "  "
            ]
          },
          "metadata": {},
          "execution_count": 12
        }
      ]
    },
    {
      "cell_type": "code",
      "source": [
        "dat.set_index('Date', inplace=True)"
      ],
      "metadata": {
        "id": "pUtUIzLZHTD-"
      },
      "id": "pUtUIzLZHTD-",
      "execution_count": 13,
      "outputs": []
    },
    {
      "cell_type": "code",
      "source": [
        "dat.groupby('Date')"
      ],
      "metadata": {
        "colab": {
          "base_uri": "https://localhost:8080/"
        },
        "id": "Sm6nHgVS7CY2",
        "outputId": "abf63867-18b8-42f0-920a-f090ec381c99"
      },
      "id": "Sm6nHgVS7CY2",
      "execution_count": 14,
      "outputs": [
        {
          "output_type": "execute_result",
          "data": {
            "text/plain": [
              "<pandas.core.groupby.generic.DataFrameGroupBy object at 0x7f00cf821910>"
            ]
          },
          "metadata": {},
          "execution_count": 14
        }
      ]
    },
    {
      "cell_type": "code",
      "source": [
        "dat.index"
      ],
      "metadata": {
        "colab": {
          "base_uri": "https://localhost:8080/"
        },
        "id": "QkZsn7u05WNC",
        "outputId": "c189ff9e-fc64-49c4-e167-2dd767dac037"
      },
      "id": "QkZsn7u05WNC",
      "execution_count": 15,
      "outputs": [
        {
          "output_type": "execute_result",
          "data": {
            "text/plain": [
              "DatetimeIndex(['2010-05-02', '2010-12-02', '2010-02-19', '2010-02-26',\n",
              "               '2010-05-03', '2010-12-03', '2010-03-19', '2010-03-26',\n",
              "               '2010-02-04', '2010-09-04',\n",
              "               ...\n",
              "               '2012-08-24', '2012-08-31', '2012-07-09', '2012-09-14',\n",
              "               '2012-09-21', '2012-09-28', '2012-05-10', '2012-12-10',\n",
              "               '2012-10-19', '2012-10-26'],\n",
              "              dtype='datetime64[ns]', name='Date', length=143, freq=None)"
            ]
          },
          "metadata": {},
          "execution_count": 15
        }
      ]
    },
    {
      "cell_type": "code",
      "source": [
        "\n",
        "# plot data\n",
        "dat.plot(figsize=(15, 6),title=\"Walmart Store 31 Dic 2010 to 1 Apr 2011\")"
      ],
      "metadata": {
        "colab": {
          "base_uri": "https://localhost:8080/",
          "height": 408
        },
        "id": "NImyRgT45voE",
        "outputId": "71a034ca-4531-4c16-f7f6-d6f41cc5e0c7"
      },
      "id": "NImyRgT45voE",
      "execution_count": 16,
      "outputs": [
        {
          "output_type": "execute_result",
          "data": {
            "text/plain": [
              "<matplotlib.axes._subplots.AxesSubplot at 0x7f00ac74ef50>"
            ]
          },
          "metadata": {},
          "execution_count": 16
        },
        {
          "output_type": "display_data",
          "data": {
            "text/plain": [
              "<Figure size 1080x432 with 1 Axes>"
            ],
            "image/png": "[encoded data removed]"
          },
          "metadata": {
            "needs_background": "light"
          }
        }
      ]
    },
    {
      "cell_type": "code",
      "source": [
        "dat.index = pd.to_datetime(dat.index)"
      ],
      "metadata": {
        "id": "miVTUJGH6chD"
      },
      "id": "miVTUJGH6chD",
      "execution_count": 17,
      "outputs": []
    },
    {
      "cell_type": "code",
      "source": [
        "from statsmodels.tsa.seasonal import seasonal_decompose\n",
        "result = seasonal_decompose(dat[\"Weekly_Sales\"], model='multiplicative', period=4)\n",
        "fig = result.plot()"
      ],
      "metadata": {
        "colab": {
          "base_uri": "https://localhost:8080/",
          "height": 297
        },
        "id": "aP3gtNxf6RBf",
        "outputId": "989e9104-800a-423b-bcb4-979e1e06e244"
      },
      "id": "aP3gtNxf6RBf",
      "execution_count": 39,
      "outputs": [
        {
          "output_type": "display_data",
          "data": {
            "text/plain": [
              "<Figure size 432x288 with 4 Axes>"
            ],
            "image/png": "[encoded data removed]"
          },
          "metadata": {
            "needs_background": "light"
          }
        }
      ]
    },
    {
      "cell_type": "code",
      "source": [
        "from pmdarima import auto_arima\n",
        "stepwise_model = auto_arima(dat, start_p=0, d=1, start_q=1,\n",
        "                           max_p=3, max_q=3, m=12,\n",
        "                           start_P=0, seasonal=True,\n",
        "                           D=1, trace=True,\n",
        "                           error_action='ignore',  \n",
        "                           suppress_warnings=True)\n",
        "print(stepwise_model.aic())"
      ],
      "metadata": {
        "colab": {
          "base_uri": "https://localhost:8080/"
        },
        "id": "OzYRCw80MxmN",
        "outputId": "c06724a2-0f2c-41a0-8cba-3224f8ef7520"
      },
      "id": "OzYRCw80MxmN",
      "execution_count": 89,
      "outputs": [
        {
          "output_type": "stream",
          "name": "stdout",
          "text": [
            "Performing stepwise search to minimize aic\n",
            " ARIMA(0,1,1)(0,1,1)[12]             : AIC=3553.776, Time=0.25 sec\n",
            " ARIMA(0,1,0)(0,1,0)[12]             : AIC=3620.068, Time=0.03 sec\n",
            " ARIMA(1,1,0)(1,1,0)[12]             : AIC=3582.797, Time=0.19 sec\n",
            " ARIMA(0,1,1)(0,1,0)[12]             : AIC=3595.331, Time=0.06 sec\n",
            " ARIMA(0,1,1)(1,1,1)[12]             : AIC=3554.421, Time=0.44 sec\n",
            " ARIMA(0,1,1)(0,1,2)[12]             : AIC=3554.236, Time=0.67 sec\n",
            " ARIMA(0,1,1)(1,1,0)[12]             : AIC=3572.494, Time=0.18 sec\n",
            " ARIMA(0,1,1)(1,1,2)[12]             : AIC=3556.188, Time=1.65 sec\n",
            " ARIMA(0,1,0)(0,1,1)[12]             : AIC=3562.319, Time=0.14 sec\n",
            " ARIMA(1,1,1)(0,1,1)[12]             : AIC=3552.353, Time=0.57 sec\n",
            " ARIMA(1,1,1)(0,1,0)[12]             : AIC=3595.926, Time=0.23 sec\n",
            " ARIMA(1,1,1)(1,1,1)[12]             : AIC=3553.244, Time=0.76 sec\n",
            " ARIMA(1,1,1)(0,1,2)[12]             : AIC=3553.077, Time=1.43 sec\n",
            " ARIMA(1,1,1)(1,1,0)[12]             : AIC=3572.386, Time=0.54 sec\n",
            " ARIMA(1,1,1)(1,1,2)[12]             : AIC=3555.028, Time=2.59 sec\n",
            " ARIMA(1,1,0)(0,1,1)[12]             : AIC=3562.187, Time=0.23 sec\n",
            " ARIMA(2,1,1)(0,1,1)[12]             : AIC=3553.331, Time=0.69 sec\n",
            " ARIMA(1,1,2)(0,1,1)[12]             : AIC=3558.460, Time=0.34 sec\n",
            " ARIMA(0,1,2)(0,1,1)[12]             : AIC=3559.647, Time=0.29 sec\n",
            " ARIMA(2,1,0)(0,1,1)[12]             : AIC=3558.559, Time=0.31 sec\n",
            " ARIMA(2,1,2)(0,1,1)[12]             : AIC=3558.244, Time=0.89 sec\n",
            " ARIMA(1,1,1)(0,1,1)[12] intercept   : AIC=3555.417, Time=0.51 sec\n",
            "\n",
            "Best model:  ARIMA(1,1,1)(0,1,1)[12]          \n",
            "Total fit time: 13.032 seconds\n",
            "3552.352538044749\n"
          ]
        }
      ]
    },
    {
      "cell_type": "code",
      "source": [
        "train = dat.loc[:'2010-01-10']\n",
        "test = dat.loc['2012-07-10':]\n",
        "stepwise_model.fit(train)"
      ],
      "metadata": {
        "colab": {
          "base_uri": "https://localhost:8080/"
        },
        "id": "JE_vnZG4OsEx",
        "outputId": "febd31dc-69ed-4eee-c8f9-b4ccff42c6eb"
      },
      "id": "JE_vnZG4OsEx",
      "execution_count": 85,
      "outputs": [
        {
          "output_type": "execute_result",
          "data": {
            "text/plain": [
              "ARIMA(order=(1, 1, 1), scoring_args={}, seasonal_order=(0, 1, 1, 12),\n",
              "      suppress_warnings=True, with_intercept=False)"
            ]
          },
          "metadata": {},
          "execution_count": 85
        }
      ]
    },
    {
      "cell_type": "code",
      "source": [
        "future_forecast = stepwise_model.predict(n_periods=len(test))"
      ],
      "metadata": {
        "id": "pCyIPqp5Pl8S"
      },
      "id": "pCyIPqp5Pl8S",
      "execution_count": 86,
      "outputs": []
    },
    {
      "cell_type": "code",
      "source": [
        "future_forecast = pd.DataFrame(future_forecast,index = test.index,columns=['Prediction'])\n",
        "pd.concat([test,future_forecast],axis=1).plot()"
      ],
      "metadata": {
        "colab": {
          "base_uri": "https://localhost:8080/",
          "height": 305
        },
        "id": "8AqXQnhDPqhx",
        "outputId": "f08b19cb-d959-4664-95ba-ca705623d16d"
      },
      "id": "8AqXQnhDPqhx",
      "execution_count": 87,
      "outputs": [
        {
          "output_type": "execute_result",
          "data": {
            "text/plain": [
              "<matplotlib.axes._subplots.AxesSubplot at 0x7f00a8b6f250>"
            ]
          },
          "metadata": {},
          "execution_count": 87
        },
        {
          "output_type": "display_data",
          "data": {
            "text/plain": [
              "<Figure size 432x288 with 1 Axes>"
            ],
            "image/png": "[encoded data removed]"
          },
          "metadata": {
            "needs_background": "light"
          }
        }
      ]
    },
    {
      "cell_type": "code",
      "source": [
        "pd.concat([dat,future_forecast],axis=1).plot(figsize=(15, 6),\n",
        "                                             title=\"Walmart Sales in One Department of One Store Feb 2010 to Oct 2012\")"
      ],
      "metadata": {
        "colab": {
          "base_uri": "https://localhost:8080/",
          "height": 408
        },
        "id": "E8R99aPiWY06",
        "outputId": "22467d10-7639-431c-901f-f1106965b6a4"
      },
      "id": "E8R99aPiWY06",
      "execution_count": 88,
      "outputs": [
        {
          "output_type": "execute_result",
          "data": {
            "text/plain": [
              "<matplotlib.axes._subplots.AxesSubplot at 0x7f00a7324210>"
            ]
          },
          "metadata": {},
          "execution_count": 88
        },
        {
          "output_type": "display_data",
          "data": {
            "text/plain": [
              "<Figure size 1080x432 with 1 Axes>"
            ],
            "image/png": "[encoded data removed]"
          },
          "metadata": {
            "needs_background": "light"
          }
        }
      ]
    },
    {
      "cell_type": "code",
      "source": [],
      "metadata": {
        "id": "tTOeEQBnWQka"
      },
      "id": "tTOeEQBnWQka",
      "execution_count": null,
      "outputs": []
    },
    {
      "cell_type": "code",
      "execution_count": null,
      "id": "63509ea2",
      "metadata": {
        "scrolled": false,
        "id": "63509ea2"
      },
      "outputs": [],
      "source": [
        "df.info()\n",
        "#tipo de variables"
      ]
    },
    {
      "cell_type": "code",
      "source": [
        "df[\"Date\"]=pd.to_datetime(df[\"Date\"])\n",
        "df.info()"
      ],
      "metadata": {
        "id": "o-YqMv6sKFta"
      },
      "id": "o-YqMv6sKFta",
      "execution_count": null,
      "outputs": []
    },
    {
      "cell_type": "code",
      "source": [
        "df.Date.describe()"
      ],
      "metadata": {
        "id": "BktBbPridb-M"
      },
      "id": "BktBbPridb-M",
      "execution_count": null,
      "outputs": []
    },
    {
      "cell_type": "code",
      "source": [
        "df[\"Year\"]= df['Date'].dt.year\n",
        "df[\"Quarter\"]= df['Date'].dt.quarter\n",
        "df[\"Month\"]= df['Date'].dt.month\n",
        "df[\"Week\"]= df['Date'].dt.week\n",
        "df[\"Day\"]= df['Date'].dt.day\n",
        "df\n",
        "#desglosar la fecha"
      ],
      "metadata": {
        "id": "Ek4LrhK57r7j"
      },
      "id": "Ek4LrhK57r7j",
      "execution_count": null,
      "outputs": []
    },
    {
      "cell_type": "code",
      "source": [
        "group=df.groupby(\"Store\").sum(\"Weekly_Sales\")\n",
        "group.reset_index(level=0, inplace=True)\n",
        "group[\"Weekly_Sales\"]=(group[\"Weekly_Sales\"])\n",
        "pd.options.display.float_format='{:,.2f}'.format\n",
        "group\n",
        "#\"agrupar por tienda y por venta semanal"
      ],
      "metadata": {
        "id": "ei3j8wnL89h4"
      },
      "id": "ei3j8wnL89h4",
      "execution_count": null,
      "outputs": []
    },
    {
      "cell_type": "code",
      "source": [
        "sort_WeeklySales=group.sort_values('Weekly_Sales', ascending=False)\n",
        "sort_WeeklySales"
      ],
      "metadata": {
        "id": "36PRoypX89sg"
      },
      "id": "36PRoypX89sg",
      "execution_count": null,
      "outputs": []
    },
    {
      "cell_type": "code",
      "source": [
        "Top_five=sort_WeeklySales[['Weekly_Sales', 'Store']][0:5:].reset_index(drop=True)\n",
        "Top_five\n",
        "#agrupar en semanas las 5 tiendas con mas ventas"
      ],
      "metadata": {
        "id": "CQwevyVLALPD"
      },
      "id": "CQwevyVLALPD",
      "execution_count": null,
      "outputs": []
    },
    {
      "cell_type": "code",
      "source": [
        "group=df.groupby(\"Year\").sum(\"Weekly_Sales\")\n",
        "group.reset_index(level=0, inplace=True)\n",
        "group[\"Weekly_Sales\"]=(group[\"Weekly_Sales\"])\n",
        "group\n",
        "#agrupamiento por año"
      ],
      "metadata": {
        "id": "ey7Lx36FDboo"
      },
      "id": "ey7Lx36FDboo",
      "execution_count": null,
      "outputs": []
    },
    {
      "cell_type": "code",
      "source": [
        "#con este script se pide a Python agrupar por Quarter\n",
        "group=df.groupby(\"Quarter\").sum(\"Weekly_Sales\")\n",
        "group.reset_index(level=0, inplace=True)\n",
        "group[\"Weekly_Sales\"]=(group[\"Weekly_Sales\"])\n",
        "group\n",
        "#agrupa por cuartos"
      ],
      "metadata": {
        "id": "PaMz-FZ3FXn4"
      },
      "id": "PaMz-FZ3FXn4",
      "execution_count": null,
      "outputs": []
    },
    {
      "cell_type": "code",
      "source": [
        "df.set_index('Store')\n",
        "#la tienda como index"
      ],
      "metadata": {
        "id": "U99WfzVlFXq1"
      },
      "id": "U99WfzVlFXq1",
      "execution_count": null,
      "outputs": []
    },
    {
      "cell_type": "code",
      "source": [
        "#con este script se pide a Python graficar las ventas por año y por mes\n",
        "plt.figure(figsize=(20,8))\n",
        "sns.lineplot(data=df, x='Month', y='Weekly_Sales', hue='Year', palette='tab10')\n",
        "sns.set_style('whitegrid')\n",
        "sns.despine(left=True, offset=20, trim=True)\n",
        "plt.show()"
      ],
      "metadata": {
        "id": "VL5oUToyFXtL"
      },
      "id": "VL5oUToyFXtL",
      "execution_count": null,
      "outputs": []
    },
    {
      "cell_type": "code",
      "source": [
        "# Sales for second and third quarter in 2012\n",
        "Q2_sales = df[(df['Date'] >= '2012-04-01') & (df['Date'] <= '2012-06-30')].groupby('Store')['Weekly_Sales'].sum()\n",
        "Q3_sales = df[(df['Date'] >= '2012-07-01') & (df['Date'] <= '2012-09-30')].groupby('Store')['Weekly_Sales'].sum()\n",
        "\n",
        "# Plotting the difference between sales for second and third quarterly\n",
        "plt.figure(figsize=(20,8))\n",
        "Q2_sales.plot(ax=Q3_sales.plot(kind ='bar'),kind='bar',color='g',alpha=0.2,legend=True)\n",
        "plt.legend([\"Q3' 2012\", \"Q2' 2012\"])"
      ],
      "metadata": {
        "id": "-x6RXFvXAy77"
      },
      "id": "-x6RXFvXAy77",
      "execution_count": null,
      "outputs": []
    },
    {
      "cell_type": "code",
      "source": [
        "Q2_sales= df[(df['Date'] >= '2012-04-01') & (df['Date'] <= '2012-06-30')].groupby('Store')['Weekly_Sales'].sum()\n",
        "Q3_sales= df[(df['Date'] >= '2012-07-01') & (df['Date'] <= '2012-09-30')].groupby('Store')['Weekly_Sales'].sum()\n",
        "quarterly_growth_rate = ((Q3_sales - Q2_sales )/Q2_sales)*100\n",
        "quarterly_growth_rate.sort_values(ascending=False).head()"
      ],
      "metadata": {
        "id": "AO_wGynWAzJf"
      },
      "id": "AO_wGynWAzJf",
      "execution_count": null,
      "outputs": []
    },
    {
      "cell_type": "code",
      "source": [
        "plt.figure(figsize=(20,8))\n",
        "quarterly_growth_rate.sort_values(ascending=False).plot(kind='bar')"
      ],
      "metadata": {
        "id": "B7XChKXaTAaJ"
      },
      "id": "B7XChKXaTAaJ",
      "execution_count": null,
      "outputs": []
    },
    {
      "cell_type": "code",
      "source": [],
      "metadata": {
        "id": "q2jGmjqfTAhp"
      },
      "id": "q2jGmjqfTAhp",
      "execution_count": null,
      "outputs": []
    },
    {
      "cell_type": "markdown",
      "source": [
        "#ANOVA"
      ],
      "metadata": {
        "id": "syH8jGsUFy3e"
      },
      "id": "syH8jGsUFy3e"
    },
    {
      "cell_type": "code",
      "source": [
        "from scipy import stats\n",
        "x=['Holiday_Flag']\n",
        "y=['Weekly_Sales']\n",
        "stats.kruskal(x,y)"
      ],
      "metadata": {
        "id": "ulCtnybEFoMJ"
      },
      "id": "ulCtnybEFoMJ",
      "execution_count": null,
      "outputs": []
    },
    {
      "cell_type": "code",
      "source": [
        "x=df[df['Holiday_Flag'] == 0]['Weekly_Sales']\n",
        "y=df[df['Holiday_Flag'] == 1]['Weekly_Sales']\n",
        "stats.kruskal(x,y)"
      ],
      "metadata": {
        "id": "RYsWubgKF5bp"
      },
      "id": "RYsWubgKF5bp",
      "execution_count": null,
      "outputs": []
    },
    {
      "cell_type": "code",
      "source": [
        "df.groupby(['Weekly_Sales'])['Holiday_Flag'].mean()"
      ],
      "metadata": {
        "id": "29jAP3pOGAS-"
      },
      "id": "29jAP3pOGAS-",
      "execution_count": null,
      "outputs": []
    },
    {
      "cell_type": "code",
      "source": [
        "from scipy.stats import f_oneway\n",
        "f_oneway(x,y)"
      ],
      "metadata": {
        "id": "0TOUh0zxGGFh"
      },
      "id": "0TOUh0zxGGFh",
      "execution_count": null,
      "outputs": []
    },
    {
      "cell_type": "markdown",
      "source": [
        "# Preparación de los datos\n"
      ],
      "metadata": {
        "id": "1CuUrcSMDLoP"
      },
      "id": "1CuUrcSMDLoP"
    },
    {
      "cell_type": "code",
      "source": [
        "df_prediction=df.dropna()"
      ],
      "metadata": {
        "id": "WM4_YbEnDSRs"
      },
      "id": "WM4_YbEnDSRs",
      "execution_count": null,
      "outputs": []
    },
    {
      "cell_type": "code",
      "source": [
        "df_agrupada=df_prediction.groupby(['Date','Store','CPI'])['Weekly_Sales'].sum().reset_index()"
      ],
      "metadata": {
        "id": "2hFGOkLyDi3X"
      },
      "id": "2hFGOkLyDi3X",
      "execution_count": null,
      "outputs": []
    },
    {
      "cell_type": "code",
      "source": [
        "Store1=df_agrupada[(df_agrupada.Store==1)]\n",
        "steps=-1"
      ],
      "metadata": {
        "id": "mpu2kOhUEgyI"
      },
      "id": "mpu2kOhUEgyI",
      "execution_count": null,
      "outputs": []
    },
    {
      "cell_type": "code",
      "source": [
        "df_prediction2=Store1.copy()"
      ],
      "metadata": {
        "id": "37ZyU0YmE5sM"
      },
      "id": "37ZyU0YmE5sM",
      "execution_count": null,
      "outputs": []
    },
    {
      "cell_type": "code",
      "source": [
        "df_prediction2['Ventas_reales']=df_prediction2['Weekly_Sales'].shift(steps)\n",
        "df_prediction2=df_prediction2.dropna()\n",
        "# Se realiza una segunda columna que representara las ventas, nos servira de prediccion"
      ],
      "metadata": {
        "id": "bA2426X8GdGg"
      },
      "id": "bA2426X8GdGg",
      "execution_count": null,
      "outputs": []
    },
    {
      "cell_type": "code",
      "source": [
        "df_prediction2.index=df_prediction2['Date']\n"
      ],
      "metadata": {
        "id": "oH3veaq_ITFv"
      },
      "id": "oH3veaq_ITFv",
      "execution_count": null,
      "outputs": []
    },
    {
      "cell_type": "code",
      "source": [
        "df_prediction2['Date'] =pd.to_datetime(df_prediction2['Date'])"
      ],
      "metadata": {
        "id": "zJlN0qZQpAWz"
      },
      "id": "zJlN0qZQpAWz",
      "execution_count": null,
      "outputs": []
    },
    {
      "cell_type": "code",
      "source": [
        "X=df_prediction2[['Store','CPI','Weekly_Sales']]\n",
        "y=df_prediction2[['Ventas_reales']]"
      ],
      "metadata": {
        "id": "ltKC3LiTIhnK"
      },
      "id": "ltKC3LiTIhnK",
      "execution_count": null,
      "outputs": []
    },
    {
      "cell_type": "code",
      "source": [
        "train_size=int(len(Store1) *0.8)\n",
        "test_size = int(len(Store1)) - train_size\n",
        "train_X, train_y = X[:train_size].dropna(), y[:train_size].dropna()\n",
        "test_X, test_y = X[train_size:].dropna(), y[train_size:].dropna()"
      ],
      "metadata": {
        "id": "th4coG5RAmIj"
      },
      "id": "th4coG5RAmIj",
      "execution_count": null,
      "outputs": []
    },
    {
      "cell_type": "markdown",
      "source": [
        "#AutoArima"
      ],
      "metadata": {
        "id": "rP9rK-VLYwHE"
      },
      "id": "rP9rK-VLYwHE"
    },
    {
      "cell_type": "code",
      "source": [
        "model_auto = auto_arima (train_y,\n",
        "                         exogenous=train_X,\n",
        "                         start_p=1, start_q=1,\n",
        "                         max_p=7, max_q=7,\n",
        "                         d=1, max_d=7,\n",
        "                         trace=True)"
      ],
      "metadata": {
        "id": "Z0EonwogjWU9"
      },
      "id": "Z0EonwogjWU9",
      "execution_count": null,
      "outputs": []
    },
    {
      "cell_type": "code",
      "source": [
        "model_auto"
      ],
      "metadata": {
        "id": "mkDFl2PfmctV"
      },
      "id": "mkDFl2PfmctV",
      "execution_count": null,
      "outputs": []
    },
    {
      "cell_type": "code",
      "source": [
        "model_auto.summary()"
      ],
      "metadata": {
        "id": "gTFT1VjKmjdd"
      },
      "id": "gTFT1VjKmjdd",
      "execution_count": null,
      "outputs": []
    },
    {
      "cell_type": "code",
      "source": [],
      "metadata": {
        "id": "Xj_GnUoqSVnq"
      },
      "id": "Xj_GnUoqSVnq",
      "execution_count": null,
      "outputs": []
    },
    {
      "cell_type": "markdown",
      "source": [
        "#SARIMAX"
      ],
      "metadata": {
        "id": "IgsUZfdwSXN-"
      },
      "id": "IgsUZfdwSXN-"
    },
    {
      "cell_type": "code",
      "source": [
        "from statsmodels.tsa.statespace.sarimax import SARIMAX"
      ],
      "metadata": {
        "id": "viigmYrkSbVu"
      },
      "id": "viigmYrkSbVu",
      "execution_count": null,
      "outputs": []
    },
    {
      "cell_type": "code",
      "source": [
        "model_SA = SARIMAX(train_y,seasonal_order=(0,1,0,52),exog=train_X, order=(0,1,2),\n",
        "                   enforce_invertibility=False, enforce_stationarity=False)"
      ],
      "metadata": {
        "id": "Ph1uudPKSfU6"
      },
      "id": "Ph1uudPKSfU6",
      "execution_count": null,
      "outputs": []
    },
    {
      "cell_type": "code",
      "source": [
        "results= model_SA.fit()\n",
        "results.summary()"
      ],
      "metadata": {
        "id": "3qTjq2mMU5e9"
      },
      "id": "3qTjq2mMU5e9",
      "execution_count": null,
      "outputs": []
    },
    {
      "cell_type": "markdown",
      "source": [
        "# Predicción"
      ],
      "metadata": {
        "id": "nX-vXSW2VwRz"
      },
      "id": "nX-vXSW2VwRz"
    },
    {
      "cell_type": "code",
      "source": [
        "%matplotlib inline"
      ],
      "metadata": {
        "id": "923aXCyFVJOM"
      },
      "id": "923aXCyFVJOM",
      "execution_count": null,
      "outputs": []
    },
    {
      "cell_type": "code",
      "source": [
        "from pandas import DataFrame\n",
        "import matplotlib.patches as mpatches\n",
        "import statsmodels.api as sm\n",
        "import pandas as pd"
      ],
      "metadata": {
        "id": "2K2qWQlVr69n"
      },
      "id": "2K2qWQlVr69n",
      "execution_count": null,
      "outputs": []
    },
    {
      "cell_type": "code",
      "source": [
        "residuals = DataFrame(results.resid)\n",
        "cycle, trend = sm.tsa.filters.hpfilter(residuals)\n",
        "residuals.plot()\n",
        "plt.xticks(rotation=90)\n",
        "plt.show()\n",
        "residuals.plot(kind='kde')\n",
        "plt.show()\n",
        "print(residuals.describe())"
      ],
      "metadata": {
        "id": "_4E0QheSvdz-"
      },
      "id": "_4E0QheSvdz-",
      "execution_count": null,
      "outputs": []
    },
    {
      "cell_type": "code",
      "source": [
        "df_auto_pred = pd.DataFrame (model_SA.predict(n_periods =len(df_test[start_date:end_date])),index = df_test.index)"
      ],
      "metadata": {
        "id": "gqKXJuD1uyPV"
      },
      "id": "gqKXJuD1uyPV",
      "execution_count": null,
      "outputs": []
    },
    {
      "cell_type": "code",
      "source": [],
      "metadata": {
        "id": "rrgnn5FqSf8N"
      },
      "id": "rrgnn5FqSf8N",
      "execution_count": null,
      "outputs": []
    },
    {
      "cell_type": "markdown",
      "source": [
        "ELISA"
      ],
      "metadata": {
        "id": "vuRRkXMLAMcr"
      },
      "id": "vuRRkXMLAMcr"
    },
    {
      "cell_type": "markdown",
      "source": [],
      "metadata": {
        "id": "q18hSLPsAMfw"
      },
      "id": "q18hSLPsAMfw"
    },
    {
      "cell_type": "markdown",
      "source": [],
      "metadata": {
        "id": "iUwp7Kb7AMim"
      },
      "id": "iUwp7Kb7AMim"
    },
    {
      "cell_type": "code",
      "source": [
        "df.set_index(\"Date\", inplace=True)\n",
        "#se establece la fecha como índice\n"
      ],
      "metadata": {
        "id": "WOj5Opt5eaY7"
      },
      "id": "WOj5Opt5eaY7",
      "execution_count": null,
      "outputs": []
    },
    {
      "cell_type": "code",
      "source": [
        "df.head()\n",
        "#Encabezados con el Date como índice"
      ],
      "metadata": {
        "id": "9gJz9WpgjXPZ"
      },
      "id": "9gJz9WpgjXPZ",
      "execution_count": null,
      "outputs": []
    },
    {
      "cell_type": "code",
      "source": [
        "df_comp=df_comp.asfreq(\"w\")"
      ],
      "metadata": {
        "id": "T3kr6Us76ujY"
      },
      "id": "T3kr6Us76ujY",
      "execution_count": null,
      "outputs": []
    },
    {
      "cell_type": "code",
      "source": [
        "df_comp.isna().sum()"
      ],
      "metadata": {
        "id": "Qa6gMt8OjXuW"
      },
      "id": "Qa6gMt8OjXuW",
      "execution_count": null,
      "outputs": []
    },
    {
      "cell_type": "code",
      "source": [
        "df_comp [\"WS\"] = df_comp.Weekly_Sales"
      ],
      "metadata": {
        "id": "MzbbPOTQpqs4"
      },
      "id": "MzbbPOTQpqs4",
      "execution_count": null,
      "outputs": []
    },
    {
      "cell_type": "code",
      "source": [
        "df_comp.describe()"
      ],
      "metadata": {
        "id": "5nz9nNogpurj"
      },
      "id": "5nz9nNogpurj",
      "execution_count": null,
      "outputs": []
    },
    {
      "cell_type": "markdown",
      "source": [
        "SPLIT "
      ],
      "metadata": {
        "id": "JewONaTpqNQc"
      },
      "id": "JewONaTpqNQc"
    },
    {
      "cell_type": "code",
      "source": [
        "size = int(len(df_comp)*0.8)\n",
        "#se hace un conjunto de entrenamiento dividiendo al 0.8 de la base total"
      ],
      "metadata": {
        "id": "7RTbLd7vqK1s"
      },
      "id": "7RTbLd7vqK1s",
      "execution_count": null,
      "outputs": []
    },
    {
      "cell_type": "code",
      "source": [
        "size\n",
        "#se pide el tamaño del conjunto de 0.8"
      ],
      "metadata": {
        "id": "Koi3NpQErPIZ"
      },
      "id": "Koi3NpQErPIZ",
      "execution_count": null,
      "outputs": []
    },
    {
      "cell_type": "code",
      "source": [
        "df_train=df_comp.iloc[:size]"
      ],
      "metadata": {
        "id": "AK_XydifqsPA"
      },
      "id": "AK_XydifqsPA",
      "execution_count": null,
      "outputs": []
    },
    {
      "cell_type": "code",
      "source": [
        "df_train\n"
      ],
      "metadata": {
        "id": "3PQDLGzMry_2"
      },
      "id": "3PQDLGzMry_2",
      "execution_count": null,
      "outputs": []
    },
    {
      "cell_type": "code",
      "source": [
        "df_test = df_comp.iloc[size:]"
      ],
      "metadata": {
        "id": "7C0MOeWGtCou"
      },
      "id": "7C0MOeWGtCou",
      "execution_count": null,
      "outputs": []
    },
    {
      "cell_type": "code",
      "source": [
        "df_test"
      ],
      "metadata": {
        "id": "az5IfACvtPD0"
      },
      "id": "az5IfACvtPD0",
      "execution_count": null,
      "outputs": []
    },
    {
      "cell_type": "code",
      "source": [
        "df_train.tail()"
      ],
      "metadata": {
        "id": "QutWAngNtdvK"
      },
      "id": "QutWAngNtdvK",
      "execution_count": null,
      "outputs": []
    },
    {
      "cell_type": "code",
      "source": [
        "df_test.tail()"
      ],
      "metadata": {
        "id": "1vWvk1xHtuF-"
      },
      "id": "1vWvk1xHtuF-",
      "execution_count": null,
      "outputs": []
    },
    {
      "cell_type": "code",
      "source": [
        "import matplotlib.pyplot as plt"
      ],
      "metadata": {
        "id": "Sl6Sc3sMynB9"
      },
      "id": "Sl6Sc3sMynB9",
      "execution_count": null,
      "outputs": []
    },
    {
      "cell_type": "code",
      "source": [
        "df_train.WS.plot(figsize=(20,5))\n",
        "#plt.ylim(3,4)\n",
        "#plt.title(\"WSa\", size = 24)\n",
        "#plt.show()"
      ],
      "metadata": {
        "id": "TwxsrKBgwHiM"
      },
      "id": "TwxsrKBgwHiM",
      "execution_count": null,
      "outputs": []
    },
    {
      "cell_type": "code",
      "source": [
        "df_train[\"Day\"]= pd.Date(df_train['Date']).day\n",
        "df_train[\"Week\"]= pd.Date(df_train['Date']).week\n",
        "df_train['Month'] = pd.Date(df_train['Date']).month\n",
        "df_train['Year'] = pd.Date(df_train['Date']).year\n",
        "df"
      ],
      "metadata": {
        "id": "Wu7ggoFD2mO9"
      },
      "id": "Wu7ggoFD2mO9",
      "execution_count": null,
      "outputs": []
    },
    {
      "cell_type": "markdown",
      "source": [
        "df_comp [\"WS\"] = df_comp.Weekly_Sales"
      ],
      "metadata": {
        "id": "iApywFpUeYJr"
      },
      "id": "iApywFpUeYJr"
    },
    {
      "cell_type": "markdown",
      "source": [],
      "metadata": {
        "id": "F9JcxhpleYiS"
      },
      "id": "F9JcxhpleYiS"
    },
    {
      "cell_type": "markdown",
      "source": [],
      "metadata": {
        "id": "BiNj-Le5eYmO"
      },
      "id": "BiNj-Le5eYmO"
    },
    {
      "cell_type": "markdown",
      "source": [],
      "metadata": {
        "id": "p9fvWNRMeYrA"
      },
      "id": "p9fvWNRMeYrA"
    },
    {
      "cell_type": "markdown",
      "source": [],
      "metadata": {
        "id": "Y_RqHDGueYvj"
      },
      "id": "Y_RqHDGueYvj"
    },
    {
      "cell_type": "markdown",
      "source": [],
      "metadata": {
        "id": "VmFI-s4AeY0M"
      },
      "id": "VmFI-s4AeY0M"
    },
    {
      "cell_type": "code",
      "source": [
        "infer_datetime_format=True\n",
        "df_comp[\"Day\"]= pd.DatetimeIndex(df_comp['Date']).day\n",
        "df_comp[\"Week\"]= pd.DatetimeIndex(df_comp['Date']).week\n",
        "df_comp['Month'] = pd.DatetimeIndex(df_comp['Date']).month\n",
        "df_comp['Year'] = pd.DatetimeIndex(df_comp['Date']).year\n",
        "df"
      ],
      "metadata": {
        "id": "vs3LV4b5KmDq"
      },
      "id": "vs3LV4b5KmDq",
      "execution_count": null,
      "outputs": []
    },
    {
      "cell_type": "code",
      "execution_count": null,
      "id": "71e0ed48",
      "metadata": {
        "scrolled": true,
        "id": "71e0ed48"
      },
      "outputs": [],
      "source": [
        "df_comp.tail (20)\n",
        "# ver los últimos registros"
      ]
    },
    {
      "cell_type": "code",
      "source": [
        "df_comp.isna()\n",
        "#nulos?"
      ],
      "metadata": {
        "id": "t3cM5BRjU5GE"
      },
      "id": "t3cM5BRjU5GE",
      "execution_count": null,
      "outputs": []
    },
    {
      "cell_type": "code",
      "execution_count": null,
      "id": "e1a287ce",
      "metadata": {
        "id": "e1a287ce"
      },
      "outputs": [],
      "source": [
        "df_comp.isnull().sum()\n",
        "#identificar valores nulos"
      ]
    },
    {
      "cell_type": "code",
      "source": [
        "df_comp.Weekly_Sales.isna().sum()\n",
        "#nulos en ventas semanales"
      ],
      "metadata": {
        "id": "L6p3_kgMVHz7"
      },
      "id": "L6p3_kgMVHz7",
      "execution_count": null,
      "outputs": []
    },
    {
      "cell_type": "code",
      "source": [
        "data_sort=df_comp.sort_values(\"Date\")\n",
        "data_sort\n",
        "#se ordenan los datos en relación a las fechas"
      ],
      "metadata": {
        "id": "qROgSq81RqKR"
      },
      "id": "qROgSq81RqKR",
      "execution_count": null,
      "outputs": []
    },
    {
      "cell_type": "code",
      "source": [],
      "metadata": {
        "id": "nWfcq8UcSXIM"
      },
      "id": "nWfcq8UcSXIM",
      "execution_count": null,
      "outputs": []
    },
    {
      "cell_type": "code",
      "execution_count": null,
      "metadata": {
        "id": "QVngjONhooXn"
      },
      "outputs": [],
      "source": [
        "#con la funcion groupby se inidca al sistema agrupar por tienda y por semana\n",
        "group=df_comp.groupby(\"Store\").sum(\"Weekly_Sales\")"
      ],
      "id": "QVngjONhooXn"
    },
    {
      "cell_type": "code",
      "source": [
        "group.reset_index(level=0, inplace=True)\n",
        "group\n",
        "#se cambia el index"
      ],
      "metadata": {
        "id": "exvy3lJxSmJi"
      },
      "id": "exvy3lJxSmJi",
      "execution_count": null,
      "outputs": []
    },
    {
      "cell_type": "code",
      "source": [
        "std = df_comp.groupby('Store')['Weekly_Sales'].std()\n",
        "std = pd.DataFrame(std)\n",
        "std_sort=std.sort_values('Weekly_Sales', ascending=False)\n",
        "std_sort\n",
        "#se obtiene la desviación"
      ],
      "metadata": {
        "id": "0SFxnVaETCZF"
      },
      "id": "0SFxnVaETCZF",
      "execution_count": null,
      "outputs": []
    },
    {
      "cell_type": "markdown",
      "id": "cead4d49",
      "metadata": {
        "id": "cead4d49"
      },
      "source": [
        "# Análisis exploratorio"
      ]
    },
    {
      "cell_type": "code",
      "source": [
        "df_comp.Weekly_Sales.plot(figsize=(20,5),title = \"Weekly_Sales\")\n",
        "plt.show()\n",
        "#se analizan las ventas semanales de forma gráfica"
      ],
      "metadata": {
        "id": "hCJh51DWV93x"
      },
      "id": "hCJh51DWV93x",
      "execution_count": null,
      "outputs": []
    },
    {
      "cell_type": "code",
      "source": [
        "df_comp.Temperature.plot(figsize=(20,5),title = \"Temperature\")\n",
        "plt.show()"
      ],
      "metadata": {
        "id": "SsTQFpGyZAlC"
      },
      "id": "SsTQFpGyZAlC",
      "execution_count": null,
      "outputs": []
    },
    {
      "cell_type": "code",
      "source": [
        "df_comp.Weekly_Sales.plot(figsize=(20,5),title = \"Weekly_Sales\")\n",
        "df_comp.Fuel_Price.plot(figsize=(20,5), title = \"Fuel_Price\")\n",
        "plt.title(\"weekly sales vs fuel price\")\n",
        "plt.show()"
      ],
      "metadata": {
        "id": "0bRLxyiAXKzV"
      },
      "id": "0bRLxyiAXKzV",
      "execution_count": null,
      "outputs": []
    },
    {
      "cell_type": "code",
      "source": [
        "df_comp.Weekly_Sales.plot(figsize=(20,5),title = \"Weekly_Sales\")\n",
        "df_comp.Temperature.plot(figsize=(20,5), title = \"Temperature\")\n",
        "plt.title(\"weekly sales vs temperature\")\n",
        "plt.show()"
      ],
      "metadata": {
        "id": "0FY-aUSWYyPX"
      },
      "id": "0FY-aUSWYyPX",
      "execution_count": null,
      "outputs": []
    },
    {
      "cell_type": "code",
      "source": [
        "import scipy.stats"
      ],
      "metadata": {
        "id": "NwtOqIczWUMy"
      },
      "id": "NwtOqIczWUMy",
      "execution_count": null,
      "outputs": []
    },
    {
      "cell_type": "code",
      "source": [
        "scipy.stats.probplot(df_comp.Weekly_Sales, plot = plt)\n",
        "plt.title (\"QQ Plot\", size = 24)\n",
        "plt.show()\n",
        "#qq PLOT de los quartiles, no se distribuye normalmente"
      ],
      "metadata": {
        "id": "JKqsG_QlZrYh"
      },
      "id": "JKqsG_QlZrYh",
      "execution_count": null,
      "outputs": []
    },
    {
      "cell_type": "code",
      "source": [
        "df_comp.describe()"
      ],
      "metadata": {
        "id": "MMebdnXIayBd"
      },
      "id": "MMebdnXIayBd",
      "execution_count": null,
      "outputs": []
    },
    {
      "cell_type": "code",
      "execution_count": null,
      "id": "807cee07",
      "metadata": {
        "scrolled": true,
        "id": "807cee07"
      },
      "outputs": [],
      "source": [
        "total_sales= df_comp.groupby('Store')['Weekly_Sales'].sum().sort_values() \n",
        "plt.figure(figsize=(15,7))\n",
        "plt.ticklabel_format( style='plain', axis='y')\n",
        "plt.title('Ventas por cada tienda')\n",
        "plt.xlabel('Tienda')\n",
        "plt.ylabel('Ventas totales')\n",
        "total_sales.plot(kind='bar');\n",
        "# tienda con el maximo de ventas suma de las ventas semanales por tienda. Tienda X, Ventas Y"
      ]
    },
    {
      "cell_type": "code",
      "execution_count": null,
      "id": "fe64e699",
      "metadata": {
        "id": "fe64e699"
      },
      "outputs": [],
      "source": [
        "df_std = pd.DataFrame(df_comp.groupby('Store')['Weekly_Sales'].std().sort_values(ascending=False))\n",
        "df_std.head(1).index[0] , df_std.head(1).Weekly_Sales[df_std.head(1).index[0]] \n",
        "# tienda con más desviacion estandar. Se agrupo por tienda, se obtuvo la desviacion"
      ]
    },
    {
      "cell_type": "code",
      "execution_count": null,
      "id": "370dabaa",
      "metadata": {
        "scrolled": true,
        "id": "370dabaa"
      },
      "outputs": [],
      "source": [
        "coef = pd.DataFrame(df.groupby('Store')['Weekly_Sales'].std() / df.groupby('Store')['Weekly_Sales'].mean()*100)\n",
        "coef.head\n",
        "# Coeficiente de desviación medio"
      ]
    },
    {
      "cell_type": "code",
      "execution_count": null,
      "id": "6c2efe67",
      "metadata": {
        "scrolled": true,
        "id": "6c2efe67"
      },
      "outputs": [],
      "source": [
        "tercer_trimestre= df[(df['Date'] >= '2012-07-01') & (df['Date'] <= '2012-09-30')].groupby('Store')['Weekly_Sales'].sum().sort_values()\n",
        "plt.figure(figsize=(15,7))\n",
        "tercer_trimestre.plot(kind='bar',legend=True)\n",
        "plt.ticklabel_format( style='plain', axis='y')\n",
        "plt.legend([\"3-Trimestre' 2012\"]);\n",
        "#Crecimiento tercer trimestre 2012 por tienda"
      ]
    },
    {
      "cell_type": "code",
      "execution_count": null,
      "id": "e29a2ed5",
      "metadata": {
        "id": "e29a2ed5"
      },
      "outputs": [],
      "source": [
        "Super_Bowl =['12-2-2010', '11-2-2011', '10-2-2012']\n",
        "Día_del_trabajo =  ['10-9-2010', '9-9-2011', '7-9-2012']\n",
        "Acción_de_gracias =  ['26-11-2010', '25-11-2011', '23-11-2012']\n",
        "Navidad = ['31-12-2010', '30-12-2011', '28-12-2012']\n",
        "#Definir días festivos"
      ]
    },
    {
      "cell_type": "code",
      "execution_count": null,
      "id": "cde78a14",
      "metadata": {
        "scrolled": true,
        "id": "cde78a14"
      },
      "outputs": [],
      "source": [
        "infer_datetime_format=True \n",
        "Ventas_Super_Bowl= (pd.DataFrame(df.loc[df.Date.isin(Super_Bowl)]))['Weekly_Sales'].mean()\n",
        "Ventas_Día_del_trabajo = (pd.DataFrame(df.loc[df.Date.isin(Día_del_trabajo)]))['Weekly_Sales'].mean()\n",
        "Ventas_Acción_de_gracias = (pd.DataFrame(df.loc[df.Date.isin(Acción_de_gracias)]))['Weekly_Sales'].mean()\n",
        "Ventas_Navidad = (pd.DataFrame(df.loc[df.Date.isin(Navidad)]))['Weekly_Sales'].mean()\n",
        "Ventas_Super_Bowl,Ventas_Día_del_trabajo,Ventas_Acción_de_gracias,Ventas_Navidad\n",
        "\n",
        "#Medias de ventas en días festivos"
      ]
    },
    {
      "cell_type": "code",
      "execution_count": null,
      "id": "6fc3c4c8",
      "metadata": {
        "id": "6fc3c4c8"
      },
      "outputs": [],
      "source": [
        "Ventas_no_festivos = df[df['Holiday_Flag'] == 0 ]['Weekly_Sales'].mean()\n",
        "Ventas_no_festivos\n",
        "# Medias en días no festivos"
      ]
    },
    {
      "cell_type": "code",
      "execution_count": null,
      "id": "acd26ded",
      "metadata": {
        "id": "acd26ded"
      },
      "outputs": [],
      "source": [
        "Promedio_ventas = {'Ventas_Super_Bowl' : Ventas_Super_Bowl,\n",
        "              'Ventas_Día_del_trabajo': Ventas_Día_del_trabajo,\n",
        "              'Ventas_Acción_de_gracias':Ventas_Acción_de_gracias,\n",
        "              'Ventas_Navidad': Ventas_Navidad,\n",
        "              'Ventas_no_festivos': Ventas_no_festivos}\n",
        "Promedio_ventas "
      ]
    },
    {
      "cell_type": "code",
      "execution_count": null,
      "id": "01420829",
      "metadata": {
        "id": "01420829"
      },
      "outputs": [],
      "source": [
        "df[\"Year\"].unique()\n",
        "#ventas en a;os"
      ]
    },
    {
      "cell_type": "code",
      "execution_count": null,
      "id": "be1c907e",
      "metadata": {
        "scrolled": false,
        "id": "be1c907e"
      },
      "outputs": [],
      "source": [
        "\n",
        "plt.figure(figsize=(15,7))\n",
        "plt.scatter(df[df.Year==2010][\"Month\"],df[df.Year==2010][\"Weekly_Sales\"])\n",
        "plt.xlabel(\"Months\")\n",
        "plt.ylabel(\"Weekly Sales\")\n",
        "plt.title(\"Monthly view of sales in 2010\")\n",
        "plt.show()\n",
        "\n",
        "plt.figure(figsize=(15,7))\n",
        "plt.scatter(df[df.Year==2011][\"Month\"],df[df.Year==2011][\"Weekly_Sales\"])\n",
        "plt.xlabel(\"Months\")\n",
        "plt.ylabel(\"Weekly Sales\")\n",
        "plt.title(\"Monthly view of sales in 2011\")\n",
        "plt.show()\n",
        "\n",
        "plt.figure(figsize=(15,7))\n",
        "plt.scatter(df[df.Year==2012][\"Month\"],df[df.Year==2012][\"Weekly_Sales\"])\n",
        "plt.xlabel(\"Months\")\n",
        "plt.ylabel(\"Weekly Sales\")\n",
        "plt.title(\"Monthly view of sales in 2012\")\n",
        "plt.show()\n",
        "# Ventas mensuales por año "
      ]
    },
    {
      "cell_type": "code",
      "execution_count": null,
      "id": "4a9351a6",
      "metadata": {
        "scrolled": true,
        "id": "4a9351a6"
      },
      "outputs": [],
      "source": [
        "ventas_mensuales = pd.pivot_table(df, values = \"Weekly_Sales\", columns = \"Year\", index = \"Month\")\n",
        "ventas_mensuales.plot()"
      ]
    },
    {
      "cell_type": "markdown",
      "id": "9b2a5114",
      "metadata": {
        "id": "9b2a5114"
      },
      "source": [
        "# Quitar valores fuera de rango\n"
      ]
    },
    {
      "cell_type": "code",
      "execution_count": null,
      "id": "41d22b2e",
      "metadata": {
        "scrolled": false,
        "id": "41d22b2e"
      },
      "outputs": [],
      "source": [
        "fig, axis = plt.subplots(4,figsize=(16,16))\n",
        "X = df[['Temperature','Fuel_Price','CPI','Unemployment']]\n",
        "for i,column in enumerate(X):\n",
        "    sns.boxplot(df[column],ax=axis[i])\n",
        "# Checamos valores atipicos   "
      ]
    },
    {
      "cell_type": "code",
      "execution_count": null,
      "id": "4aa72945",
      "metadata": {
        "scrolled": false,
        "id": "4aa72945"
      },
      "outputs": [],
      "source": [
        "sns.scatterplot(data=df,x='Temperature', y='Weekly_Sales', hue = 'Year')\n",
        "plt.axvline(x=10,color='r')"
      ]
    },
    {
      "cell_type": "code",
      "execution_count": null,
      "id": "8865b593",
      "metadata": {
        "scrolled": true,
        "id": "8865b593"
      },
      "outputs": [],
      "source": [
        "sns.scatterplot(data=df,x='Unemployment', y='Weekly_Sales', hue = 'Year')\n",
        "plt.axvline(x=4.5,color='r')"
      ]
    },
    {
      "cell_type": "code",
      "execution_count": null,
      "id": "b0b770bb",
      "metadata": {
        "id": "b0b770bb"
      },
      "outputs": [],
      "source": [
        "df_limpia = df[(df['Unemployment']<10) & (df['Unemployment']>4.5) & (df['Temperature']>10)]\n",
        "# Quitamos valores atipicos en una nueva función"
      ]
    },
    {
      "cell_type": "code",
      "execution_count": null,
      "id": "fc37140d",
      "metadata": {
        "scrolled": true,
        "id": "fc37140d"
      },
      "outputs": [],
      "source": [
        "fig, axis = plt.subplots(4,figsize=(16,16))\n",
        "X = df_limpia[['Temperature','Fuel_Price','CPI','Unemployment']]\n",
        "for i,column in enumerate(X):\n",
        "    sns.boxplot(df_limpia[column],ax=axis[i])\n",
        "# Verificamos ya no tener valores atipicos"
      ]
    },
    {
      "cell_type": "code",
      "execution_count": null,
      "id": "bb7762a0",
      "metadata": {
        "id": "bb7762a0"
      },
      "outputs": [],
      "source": [
        "plt.figure(figsize = (12,12))\n",
        "sns.heatmap(df_limpia.corr().abs())    # To see the correlations\n",
        "plt.show()"
      ]
    },
    {
      "cell_type": "markdown",
      "id": "8970194a",
      "metadata": {
        "id": "8970194a"
      },
      "source": [
        "# Modelos\n"
      ]
    },
    {
      "cell_type": "code",
      "execution_count": null,
      "id": "4aeace3b",
      "metadata": {
        "id": "4aeace3b"
      },
      "outputs": [],
      "source": [
        "from pmdarima import auto_arima"
      ]
    },
    {
      "cell_type": "code",
      "execution_count": null,
      "id": "8620127e",
      "metadata": {
        "id": "8620127e"
      },
      "outputs": [],
      "source": [
        "df_arima=df\n",
        "df_arima=df_arima.set_index('Date')"
      ]
    },
    {
      "cell_type": "code",
      "execution_count": null,
      "id": "66be96ff",
      "metadata": {
        "scrolled": false,
        "id": "66be96ff"
      },
      "outputs": [],
      "source": [
        "plt.figure(figsize=(16,9))\n",
        "df_arima['Weekly_Sales'].plot()\n",
        "plt.show()"
      ]
    },
    {
      "cell_type": "code",
      "execution_count": null,
      "id": "0d910f24",
      "metadata": {
        "id": "0d910f24"
      },
      "outputs": [],
      "source": [
        "df_arimamonth = df_arima.resample('M').mean()"
      ]
    },
    {
      "cell_type": "code",
      "execution_count": null,
      "id": "4dee6c68",
      "metadata": {
        "scrolled": true,
        "id": "4dee6c68"
      },
      "outputs": [],
      "source": [
        "plt.figure(figsize=(16,6))\n",
        "df_arimamonth['Weekly_Sales'].plot()\n",
        "plt.title('Average Sales - Weekly')\n",
        "plt.show()"
      ]
    },
    {
      "cell_type": "code",
      "execution_count": null,
      "id": "2a60c763",
      "metadata": {
        "scrolled": true,
        "id": "2a60c763"
      },
      "outputs": [],
      "source": [
        "train_data = df_arimamonth[:int(0.7*(len(df_arimamonth)))] \n",
        "test_data = df_arimamonth[int(0.7*(len(df_arimamonth))):]\n",
        "\n",
        "print('Train:', train_data.shape)\n",
        "print('Test:', test_data.shape)"
      ]
    },
    {
      "cell_type": "code",
      "execution_count": null,
      "id": "ba0adf41",
      "metadata": {
        "scrolled": true,
        "id": "ba0adf41"
      },
      "outputs": [],
      "source": [
        "train_data['Weekly_Sales'].plot(figsize=(20,8), title= 'Weekly_Sales', fontsize=14)\n",
        "test_data['Weekly_Sales'].plot(figsize=(20,8), title= 'Weekly_Sales', fontsize=14)\n",
        "plt.show()"
      ]
    },
    {
      "cell_type": "code",
      "execution_count": null,
      "id": "9d7de05f",
      "metadata": {
        "id": "9d7de05f"
      },
      "outputs": [],
      "source": [
        "from pmdarima.arima import ADFTest\n",
        "adf_test = ADFTest(alpha = 0.05)\n",
        "adf_test.should_diff (df_arimamonth['Weekly_Sales'])"
      ]
    },
    {
      "cell_type": "code",
      "execution_count": null,
      "id": "7c291725",
      "metadata": {
        "scrolled": false,
        "id": "7c291725"
      },
      "outputs": [],
      "source": [
        "model_auto_arima = auto_arima(train_data['Weekly_Sales'], trace=True,start_p=0, start_q=0, start_P=0, start_Q=0,\n",
        "                  max_p=20, max_q=20, max_P=20, max_Q=20, seasonal=True,maxiter=200,\n",
        "                  information_criterion='aic',stepwise=False, suppress_warnings=True, D=2, max_D=0, d=1, \n",
        "                  error_action='ignore',approximation = False)\n",
        "model_auto_arima.fit(train_data['Weekly_Sales'])"
      ]
    },
    {
      "cell_type": "code",
      "execution_count": null,
      "id": "32eec027",
      "metadata": {
        "id": "32eec027"
      },
      "outputs": [],
      "source": [
        "model_auto_arima.summary()"
      ]
    },
    {
      "cell_type": "code",
      "execution_count": null,
      "id": "da8afb5d",
      "metadata": {
        "id": "da8afb5d"
      },
      "outputs": [],
      "source": [
        "y_pred = model_auto_arima.predict(n_periods=len(test_data['Weekly_Sales']))\n",
        "y_pred = pd.DataFrame(y_pred,index = test_data['Weekly_Sales'].index,columns=['Prediction'])\n",
        "plt.figure(figsize=(20,6))\n",
        "plt.title('Prediction of Weekly Sales Using Auto-ARIMA', fontsize=20)\n",
        "plt.plot(train_data['Weekly_Sales'], label='Train')\n",
        "plt.plot(test_data['Weekly_Sales'], label='Test')\n",
        "plt.plot(y_pred, label='Prediction of ARIMA')\n",
        "plt.legend(loc='best')\n",
        "plt.xlabel('Date', fontsize=14)\n",
        "plt.ylabel('Weekly Sales', fontsize=14)\n",
        "plt.show()"
      ]
    },
    {
      "cell_type": "code",
      "execution_count": null,
      "id": "26a3f49e",
      "metadata": {
        "id": "26a3f49e"
      },
      "outputs": [],
      "source": []
    },
    {
      "cell_type": "code",
      "execution_count": null,
      "id": "944b347e",
      "metadata": {
        "id": "944b347e"
      },
      "outputs": [],
      "source": []
    },
    {
      "cell_type": "code",
      "execution_count": null,
      "id": "731873e9",
      "metadata": {
        "scrolled": true,
        "id": "731873e9"
      },
      "outputs": [],
      "source": [
        "train = df_limpia['Weekly_Sales']\n",
        "test = df_limpia['Weekly_Sales']\n",
        "plt.plot(train)\n",
        "plt.plot(test)\n",
        "#plt.plot(test)"
      ]
    },
    {
      "cell_type": "code",
      "execution_count": null,
      "id": "641d7525",
      "metadata": {
        "id": "641d7525"
      },
      "outputs": [],
      "source": [
        "plt.figure(figsize=(50,6))\n",
        "df_limpia['Weekly_Sales'].plot()"
      ]
    },
    {
      "cell_type": "code",
      "execution_count": null,
      "id": "bfa8cc7b",
      "metadata": {
        "id": "bfa8cc7b"
      },
      "outputs": [],
      "source": [
        "model_auto_arima = auto_arima(train_data_diff, trace=True,start_p=0, start_q=0, start_P=0, start_Q=0,\n",
        "                  max_p=20, max_q=20, max_P=20, max_Q=20, seasonal=True,maxiter=200,\n",
        "                  information_criterion='aic',stepwise=False, suppress_warnings=True, D=1, max_D=10,\n",
        "                  error_action='ignore',approximation = False)\n",
        "model_auto_arima.fit(train_data_diff)"
      ]
    },
    {
      "cell_type": "code",
      "execution_count": null,
      "id": "986d0280",
      "metadata": {
        "id": "986d0280"
      },
      "outputs": [],
      "source": [
        "X = df_limpia[['Store','Fuel_Price','CPI','Unemployment','Day','Month','Year']]\n",
        "y = df_limpia['Weekly_Sales']\n"
      ]
    },
    {
      "cell_type": "code",
      "execution_count": null,
      "id": "cdcd964b",
      "metadata": {
        "id": "cdcd964b"
      },
      "outputs": [],
      "source": [
        "from sklearn.model_selection import train_test_split\n",
        "X_train, X_test, y_train, y_test = train_test_split(X, y, random_state = 100)"
      ]
    },
    {
      "cell_type": "code",
      "execution_count": null,
      "id": "cff104ed",
      "metadata": {
        "scrolled": true,
        "id": "cff104ed"
      },
      "outputs": [],
      "source": [
        "from sklearn.linear_model import LinearRegression\n",
        "\n",
        "model = LinearRegression()\n",
        "model.fit(X_train,y_train)"
      ]
    },
    {
      "cell_type": "code",
      "execution_count": null,
      "id": "a47a0d6a",
      "metadata": {
        "scrolled": true,
        "id": "a47a0d6a"
      },
      "outputs": [],
      "source": [
        "model.coef_"
      ]
    },
    {
      "cell_type": "code",
      "execution_count": null,
      "id": "60a97ebb",
      "metadata": {
        "scrolled": true,
        "id": "60a97ebb"
      },
      "outputs": [],
      "source": [
        "X.mean()"
      ]
    },
    {
      "cell_type": "code",
      "execution_count": null,
      "id": "4290adee",
      "metadata": {
        "scrolled": true,
        "id": "4290adee"
      },
      "outputs": [],
      "source": [
        "import matplotlib.pyplot as plt\n",
        "%matplotlib inline\n",
        "\n",
        "plt.scatter(model.predict(X_test),y_test)\n",
        "plt.xlabel('Model Predictions')\n",
        "plt.ylabel('True Value')\n",
        "\n",
        "plt.show()"
      ]
    },
    {
      "cell_type": "code",
      "execution_count": null,
      "id": "f6dcc553",
      "metadata": {
        "scrolled": true,
        "id": "f6dcc553"
      },
      "outputs": [],
      "source": [
        "from scipy.stats import pearsonr\n",
        "\n",
        "pearsonr(model.predict(X_test),y_test)"
      ]
    },
    {
      "cell_type": "code",
      "execution_count": null,
      "id": "8036be94",
      "metadata": {
        "id": "8036be94"
      },
      "outputs": [],
      "source": [
        "from sklearn import metrics\n"
      ]
    },
    {
      "cell_type": "code",
      "execution_count": null,
      "id": "4b7df30c",
      "metadata": {
        "id": "4b7df30c"
      },
      "outputs": [],
      "source": [
        "print('Linear Regression:')\n",
        "print()\n",
        "reg = LinearRegression()\n",
        "reg.fit(X_train, y_train)\n",
        "y_pred = reg.predict(X_test)\n",
        "print('Accuracy:',reg.score(X_train, y_train)*100)\n",
        "print('Mean Absolute Error:', metrics.mean_absolute_error(y_test, y_pred))\n",
        "print('Mean Squared Error:', metrics.mean_squared_error(y_test, y_pred))\n",
        "print('Root Mean Squared Error:', np.sqrt(metrics.mean_squared_error(y_test, y_pred)))\n",
        "print('R Squared:',metrics.r2_score(y_test, y_pred))\n",
        "\n"
      ]
    },
    {
      "cell_type": "code",
      "execution_count": null,
      "id": "4a99da1e",
      "metadata": {
        "id": "4a99da1e"
      },
      "outputs": [],
      "source": [
        "from sklearn.ensemble import RandomForestRegressor\n",
        "print('Random Forest Regressor:')\n",
        "print()\n",
        "rfr = RandomForestRegressor()        \n",
        "rfr.fit(X_train,y_train)\n",
        "y_pred = rfr.predict(X_test)\n",
        "print('Accuracy:',rfr.score(X_test, y_test)*100)\n",
        "print('Mean Absolute Error:', metrics.mean_absolute_error(y_test, y_pred))\n",
        "print('Mean Squared Error:', metrics.mean_squared_error(y_test, y_pred))\n",
        "print('Root Mean Squared Error:', np.sqrt(metrics.mean_squared_error(y_test, y_pred)))\n",
        "print('R Squared:',metrics.r2_score(y_test, y_pred))"
      ]
    },
    {
      "cell_type": "code",
      "execution_count": null,
      "id": "9ec74280",
      "metadata": {
        "scrolled": true,
        "id": "9ec74280"
      },
      "outputs": [],
      "source": [
        "import matplotlib.pyplot as plt\n",
        "%matplotlib inline\n",
        "\n",
        "plt.scatter(y_pred,y_test)\n",
        "plt.xlabel('Model Predictions')\n",
        "plt.ylabel('True Value')\n",
        "\n",
        "plt.show()"
      ]
    },
    {
      "cell_type": "code",
      "execution_count": null,
      "id": "a2df0038",
      "metadata": {
        "id": "a2df0038"
      },
      "outputs": [],
      "source": [
        "pearsonr(y_pred,y_test)"
      ]
    },
    {
      "cell_type": "code",
      "execution_count": null,
      "id": "047e5868",
      "metadata": {
        "id": "047e5868"
      },
      "outputs": [],
      "source": []
    },
    {
      "cell_type": "code",
      "execution_count": null,
      "id": "81a13a8e",
      "metadata": {
        "id": "81a13a8e"
      },
      "outputs": [],
      "source": []
    },
    {
      "cell_type": "code",
      "execution_count": null,
      "id": "77b8fb78",
      "metadata": {
        "id": "77b8fb78"
      },
      "outputs": [],
      "source": []
    },
    {
      "cell_type": "code",
      "execution_count": null,
      "id": "cc5ccca6",
      "metadata": {
        "id": "cc5ccca6"
      },
      "outputs": [],
      "source": []
    },
    {
      "cell_type": "code",
      "execution_count": null,
      "id": "524fd993",
      "metadata": {
        "id": "524fd993"
      },
      "outputs": [],
      "source": []
    }
  ],
  "metadata": {
    "kernelspec": {
      "display_name": "Python 3 (ipykernel)",
      "language": "python",
      "name": "python3"
    },
    "language_info": {
      "codemirror_mode": {
        "name": "ipython",
        "version": 3
      },
      "file_extension": ".py",
      "mimetype": "text/x-python",
      "name": "python",
      "nbconvert_exporter": "python",
      "pygments_lexer": "ipython3",
      "version": "3.10.2"
    },
    "colab": {
      "provenance": [],
      "collapsed_sections": [
        "9b2a5114",
        "8970194a"
      ]
    }
  },
  "nbformat": 4,
  "nbformat_minor": 5
}